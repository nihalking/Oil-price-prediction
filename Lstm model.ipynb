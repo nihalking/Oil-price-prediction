{
 "cells": [
  {
   "cell_type": "markdown",
   "metadata": {},
   "source": [
    "# Library Declerations"
   ]
  },
  {
   "cell_type": "code",
   "execution_count": 1,
   "metadata": {},
   "outputs": [
    {
     "name": "stderr",
     "output_type": "stream",
     "text": [
      "Using TensorFlow backend.\n"
     ]
    }
   ],
   "source": [
    "\n",
    "import pandas as pd\n",
    "import numpy as np\n",
    "from math import sqrt\n",
    "from matplotlib import pyplot\n",
    "from pandas import read_csv\n",
    "from pandas import DataFrame\n",
    "from pandas import concat\n",
    "from pandas import DataFrame\n",
    "from pandas import concat\n",
    "from sklearn.preprocessing import MinMaxScaler\n",
    "from sklearn.preprocessing import LabelEncoder\n",
    "from sklearn.metrics import mean_squared_error\n",
    "from keras.models import Sequential\n",
    "from keras.layers import Dense,Conv1D,Dropout,Activation\n",
    "from keras.layers import LSTM, GRU\n",
    "from sklearn.utils import shuffle\n",
    "from keras.layers import Flatten    \n",
    "import tensorflow as tf\n",
    "from keras import losses\n",
    "from keras.optimizers import SGD\n",
    "from sklearn.metrics import mean_squared_error ,mean_absolute_error"
   ]
  },
  {
   "cell_type": "markdown",
   "metadata": {},
   "source": [
    "# Importing Data and selecting columns"
   ]
  },
  {
   "cell_type": "code",
   "execution_count": 2,
   "metadata": {},
   "outputs": [],
   "source": [
    "df=pd.read_csv(\"Oil and Gas 1932-2014.csv\",parse_dates=['year'])\n",
    "df.replace(np.nan,0,inplace=True)\n",
    "data=df.groupby('year').sum().reset_index()\n",
    "data1=pd.DataFrame(data[['oil_value_2014','gas_value_nom','oil_price_nom','oil_gas_value_2014','oil_value_nom','gas_prod55_14','gas_value_2014','mult_nom_2014']])\n"
   ]
  },
  {
   "cell_type": "code",
   "execution_count": 3,
   "metadata": {},
   "outputs": [],
   "source": [
    "def series_to_supervised(data1, n_in=1, n_out=1, dropnan=True):\n",
    "\tn_vars = 1 if type(data1) is list else data1.shape[1]\n",
    "\tdf = DataFrame(data1)\n",
    "\tcols, names = list(), list()\n",
    "\t# input sequence (t-n, ... t-1)\n",
    "\tfor i in range(n_in, 0, -1):\n",
    "\t\tcols.append(df.shift(i))\n",
    "\t\tnames += [('var%d(t-%d)' % (j+1, i)) for j in range(n_vars)]\n",
    "\t# forecast sequence (t, t+1, ... t+n)\n",
    "\tfor i in range(0, n_out):\n",
    "\t\tcols.append(df.shift(-i))\n",
    "\t\tif i == 0:\n",
    "\t\t\tnames += [('var%d(t)' % (j+1)) for j in range(n_vars)]\n",
    "\t\telse:\n",
    "\t\t\tnames += [('var%d(t+%d)' % (j+1, i)) for j in range(n_vars)]\n",
    "\t# put it all together\n",
    "\tagg = concat(cols, axis=1)\n",
    "\tagg.columns = names\n",
    "\t# drop rows with NaN values\n",
    "\tif dropnan:\n",
    "\t\tagg.dropna(inplace=True)\n",
    "\treturn agg\n"
   ]
  },
  {
   "cell_type": "code",
   "execution_count": 4,
   "metadata": {},
   "outputs": [
    {
     "name": "stdout",
     "output_type": "stream",
     "text": [
      "(83, 8)\n",
      "(60, 1, 8) (60,) (22, 1, 8) (22,)\n"
     ]
    }
   ],
   "source": [
    "values = data1.values\n",
    "print(values.shape)\n",
    "values = values.astype('float32')\n",
    "series_to_supervised(values,1,1).head()\n",
    "\n",
    "scaler = MinMaxScaler(feature_range=(0,1))\n",
    "scaled = scaler.fit_transform(values)\n",
    "reframed = series_to_supervised(scaled,1,1)\n",
    "# drop columns we don't want to predict\n",
    "reframed.drop(reframed.columns[[9,10,11,12,13,14,15]], axis=1, inplace=True)\n",
    "\n",
    "values = reframed.values\n",
    "n_train = 60 \n",
    "train = values[:n_train]\n",
    "test = values[n_train:]\n",
    "Xtrain,Ytrain = train[:,:-1],train[:,-1]\n",
    "Xtest,Ytest = test[:,:-1],test[:,-1]\n",
    "\n",
    "Xtrain=Xtrain.reshape((Xtrain.shape[0],1,Xtrain.shape[1]))\n",
    "Xtest=Xtest.reshape((Xtest.shape[0],1,Xtest.shape[1]))\n",
    "print(Xtrain.shape,Ytrain.shape,Xtest.shape,Ytest.shape)\n"
   ]
  },
  {
   "cell_type": "code",
   "execution_count": 5,
   "metadata": {},
   "outputs": [],
   "source": [
    "model = Sequential()\n",
    "\n",
    "model.add(LSTM(units = 50 , activation = 'tanh', input_shape=(Xtrain.shape[1],Xtrain.shape[2]), return_sequences = True,kernel_initializer='normal',\n",
    "                kernel_regularizer='l2' ))\n",
    "model.add(Dropout(0.4))\n",
    "\n",
    "#adding a first LSTM layer and some dropout regularisation\n",
    "model.add(LSTM(units = 50 , activation = 'tanh', return_sequences = True ))\n",
    "model.add(Dropout(0.4))\n",
    "\n",
    "#adding a first LSTM layer and some dropout regularisation\n",
    "model.add(LSTM(units = 50 , activation = 'tanh', return_sequences = True ))\n",
    "model.add(Dropout(0.4))\n",
    "\n",
    "#adding a first LSTM layer and some dropout regularisation\n",
    "model.add(LSTM(units = 50 , activation = 'tanh', return_sequences = True ))\n",
    "model.add(Dropout(0.4))\n",
    "\n",
    "#adding a first LSTM layer and some dropout regularisation\n",
    "model.add(LSTM(units = 50,activation = 'tanh',))\n",
    "model.add(Dropout(0.4))\n",
    "\n",
    "#adding output layer\n",
    "model.add(Dense(units = 1))\n",
    "model.compile(optimizer = 'adam' , loss = 'mean_squared_error' , metrics = ['accuracy'])\n",
    "\n",
    "#Fitting the Rnn ti the testing set\n",
    "history = model.fit(Xtrain , Ytrain , validation_data = (Xtest, Ytest), epochs = 100 ,batch_size = 20, verbose=0,shuffle =  False)\n"
   ]
  },
  {
   "cell_type": "code",
   "execution_count": 6,
   "metadata": {},
   "outputs": [
    {
     "name": "stdout",
     "output_type": "stream",
     "text": [
      "{'mape': 0.2193489, 'me': 216524280000.0, 'mae': 361732540000.0, 'mpe': 0.03526991, 'rmse': 479766257989.84686}\n"
     ]
    }
   ],
   "source": [
    "predicted = model.predict(Xtest)\n",
    "XtestRe = Xtest.reshape(Xtest.shape[0],Xtest.shape[2])\n",
    "predicted = np.concatenate((predicted,XtestRe[:,1:]),axis=1)\n",
    "predicted = scaler.inverse_transform(predicted)\n",
    "\n",
    "Ytest = Ytest.reshape(len(Ytest),1)\n",
    "Ytest = np.concatenate((Ytest,XtestRe[:,1:]),axis=1)\n",
    "Ytest = scaler.inverse_transform(Ytest)\n",
    "Ytest\n",
    "\n",
    "mape = np.mean(np.abs(Ytest[:,0]-predicted[:,0])/np.abs(Ytest[:,0]))  # MAPE\n",
    "me = np.mean(Ytest[:,0]-predicted[:,0])             # ME\n",
    "mae = np.mean(np.abs(Ytest[:,0]-predicted[:,0]))    \n",
    "mpe = np.mean((Ytest[:,0]-predicted[:,0])/Ytest[:,0])   # MPE\n",
    "rmse = np.mean((Ytest[:,0]-predicted[:,0])**2)**.5  # RMSE\n",
    "print({'mape':mape,\n",
    "           'me':me,\n",
    "           'mae': mae,\n",
    "           'mpe': mpe,\n",
    "           'rmse':rmse})"
   ]
  },
  {
   "cell_type": "code",
   "execution_count": 7,
   "metadata": {},
   "outputs": [
    {
     "data": {
      "image/png": "[encoded data removed]",
      "text/plain": [
       "<Figure size 432x288 with 1 Axes>"
      ]
     },
     "metadata": {
      "needs_background": "light"
     },
     "output_type": "display_data"
    }
   ],
   "source": [
    "result = pd.concat([pd.Series(predicted[:,0]),pd.Series(Ytest[:,0])],axis=1)\n",
    "result.columns = ['Predicted','Actual']\n",
    "result['diff'] = result['Predicted'] - result['Actual']\n",
    "result\n",
    "pyplot.plot(result['Actual'], label='train')\n",
    "pyplot.plot(result['Predicted'], label='test')\n",
    "pyplot.legend()\n",
    "pyplot.show()"
   ]
  },
  {
   "cell_type": "code",
   "execution_count": null,
   "metadata": {},
   "outputs": [],
   "source": []
  }
 ],
 "metadata": {
  "kernelspec": {
   "display_name": "Python 3",
   "language": "python",
   "name": "python3"
  },
  "language_info": {
   "codemirror_mode": {
    "name": "ipython",
    "version": 3
   },
   "file_extension": ".py",
   "mimetype": "text/x-python",
   "name": "python",
   "nbconvert_exporter": "python",
   "pygments_lexer": "ipython3",
   "version": "3.7.3"
  },
  "toc": {
   "base_numbering": 1,
   "nav_menu": {},
   "number_sections": true,
   "sideBar": true,
   "skip_h1_title": false,
   "title_cell": "Table of Contents",
   "title_sidebar": "Contents",
   "toc_cell": false,
   "toc_position": {},
   "toc_section_display": true,
   "toc_window_display": false
  }
 },
 "nbformat": 4,
 "nbformat_minor": 2
}
