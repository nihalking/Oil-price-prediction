{
 "cells": [
  {
   "cell_type": "markdown",
   "metadata": {},
   "source": [
    "# Importing the required Packages"
   ]
  },
  {
   "cell_type": "code",
   "execution_count": 1,
   "metadata": {},
   "outputs": [],
   "source": [
    "import pandas as pd\n",
    "import numpy as np\n",
    "import matplotlib.pyplot as plt\n",
    "import seaborn as sns\n",
    "from ipywidgets import interact"
   ]
  },
  {
   "cell_type": "markdown",
   "metadata": {},
   "source": [
    "# Importing Data Set"
   ]
  },
  {
   "cell_type": "code",
   "execution_count": 2,
   "metadata": {},
   "outputs": [],
   "source": [
    "df = pd.read_csv(\"Oil and Gas 1932-2014.csv\")"
   ]
  },
  {
   "cell_type": "code",
   "execution_count": 3,
   "metadata": {},
   "outputs": [
    {
     "data": {
      "text/plain": [
       "(cty_name                            0\n",
       " iso3numeric                         0\n",
       " id                                415\n",
       " year                                0\n",
       " eiacty                           1267\n",
       " oil_prod32_14                    5418\n",
       " oil_price_2000                     18\n",
       " oil_price_nom                       0\n",
       " oil_value_nom                    5418\n",
       " oil_value_2000                   5418\n",
       " oil_value_2014                   5418\n",
       " gas_prod55_14                    6709\n",
       " gas_price_2000_mboe                 0\n",
       " gas_price_2000                   4301\n",
       " gas_price_nom                       0\n",
       " gas_value_nom                    6709\n",
       " gas_value_2000                   6709\n",
       " gas_value_2014                   6709\n",
       " oil_gas_value_nom                5287\n",
       " oil_gas_value_2000               5287\n",
       " oil_gas_value_2014               5287\n",
       " oil_gas_valuePOP_nom             5449\n",
       " oil_gas_valuePOP_2000            5449\n",
       " oil_gas_valuePOP_2014            5449\n",
       " oil_exports                     11011\n",
       " net_oil_exports                 11011\n",
       " net_oil_exports_mt              11011\n",
       " net_oil_exports_value           11011\n",
       " net_oil_exports_valuePOP        11016\n",
       " gas_exports                     11503\n",
       " net_gas_exports_bcf             11505\n",
       " net_gas_exports_mboe            11505\n",
       " net_gas_exports_value           11641\n",
       " net_gas_exports_valuePOP        11646\n",
       " net_oil_gas_exports_valuePOP    11646\n",
       " population                       2620\n",
       " pop_maddison                     3717\n",
       " sovereign                           0\n",
       " mult_nom_2000                       0\n",
       " mult_nom_2014                       0\n",
       " mult_2000_2014                      0\n",
       " dtype: int64, (15521, 41))"
      ]
     },
     "execution_count": 3,
     "metadata": {},
     "output_type": "execute_result"
    }
   ],
   "source": [
    "df.isna().sum(),df.shape"
   ]
  },
  {
   "cell_type": "code",
   "execution_count": 4,
   "metadata": {},
   "outputs": [
    {
     "name": "stdout",
     "output_type": "stream",
     "text": [
      "<class 'pandas.core.frame.DataFrame'>\n",
      "RangeIndex: 15521 entries, 0 to 15520\n",
      "Data columns (total 41 columns):\n",
      "cty_name                        15521 non-null object\n",
      "iso3numeric                     15521 non-null int64\n",
      "id                              15106 non-null object\n",
      "year                            15521 non-null int64\n",
      "eiacty                          14254 non-null object\n",
      "oil_prod32_14                   10103 non-null float64\n",
      "oil_price_2000                  15503 non-null float64\n",
      "oil_price_nom                   15521 non-null float64\n",
      "oil_value_nom                   10103 non-null float64\n",
      "oil_value_2000                  10103 non-null float64\n",
      "oil_value_2014                  10103 non-null float64\n",
      "gas_prod55_14                   8812 non-null float64\n",
      "gas_price_2000_mboe             15521 non-null float64\n",
      "gas_price_2000                  11220 non-null float64\n",
      "gas_price_nom                   15521 non-null float64\n",
      "gas_value_nom                   8812 non-null float64\n",
      "gas_value_2000                  8812 non-null float64\n",
      "gas_value_2014                  8812 non-null float64\n",
      "oil_gas_value_nom               10234 non-null float64\n",
      "oil_gas_value_2000              10234 non-null float64\n",
      "oil_gas_value_2014              10234 non-null float64\n",
      "oil_gas_valuePOP_nom            10072 non-null float64\n",
      "oil_gas_valuePOP_2000           10072 non-null float64\n",
      "oil_gas_valuePOP_2014           10072 non-null float64\n",
      "oil_exports                     4510 non-null float64\n",
      "net_oil_exports                 4510 non-null float64\n",
      "net_oil_exports_mt              4510 non-null float64\n",
      "net_oil_exports_value           4510 non-null float64\n",
      "net_oil_exports_valuePOP        4505 non-null float64\n",
      "gas_exports                     4018 non-null float64\n",
      "net_gas_exports_bcf             4016 non-null float64\n",
      "net_gas_exports_mboe            4016 non-null float64\n",
      "net_gas_exports_value           3880 non-null float64\n",
      "net_gas_exports_valuePOP        3875 non-null float64\n",
      "net_oil_gas_exports_valuePOP    3875 non-null float64\n",
      "population                      12901 non-null float64\n",
      "pop_maddison                    11804 non-null float64\n",
      "sovereign                       15521 non-null int64\n",
      "mult_nom_2000                   15521 non-null float64\n",
      "mult_nom_2014                   15521 non-null float64\n",
      "mult_2000_2014                  15521 non-null float64\n",
      "dtypes: float64(35), int64(3), object(3)\n",
      "memory usage: 4.9+ MB\n"
     ]
    }
   ],
   "source": [
    "df.info()"
   ]
  },
  {
   "cell_type": "markdown",
   "metadata": {},
   "source": [
    "# Production Part Only"
   ]
  },
  {
   "cell_type": "markdown",
   "metadata": {},
   "source": [
    "## Selecting the Oil Production Part Only"
   ]
  },
  {
   "cell_type": "code",
   "execution_count": 5,
   "metadata": {},
   "outputs": [],
   "source": [
    "req = ['cty_name','iso3numeric','id','year','eiacty']\n",
    "req.extend([i for i in df.columns if 'oil' in i and 'export' not in i and 'gas' not in i])\n",
    "oilproduction = df[req]"
   ]
  },
  {
   "cell_type": "code",
   "execution_count": 6,
   "metadata": {
    "scrolled": true
   },
   "outputs": [
    {
     "data": {
      "text/html": [
       "<div>\n",
       "<style scoped>\n",
       "    .dataframe tbody tr th:only-of-type {\n",
       "        vertical-align: middle;\n",
       "    }\n",
       "\n",
       "    .dataframe tbody tr th {\n",
       "        vertical-align: top;\n",
       "    }\n",
       "\n",
       "    .dataframe thead th {\n",
       "        text-align: right;\n",
       "    }\n",
       "</style>\n",
       "<table border=\"1\" class=\"dataframe\">\n",
       "  <thead>\n",
       "    <tr style=\"text-align: right;\">\n",
       "      <th></th>\n",
       "      <th>cty_name</th>\n",
       "      <th>iso3numeric</th>\n",
       "      <th>id</th>\n",
       "      <th>year</th>\n",
       "      <th>eiacty</th>\n",
       "      <th>oil_prod32_14</th>\n",
       "      <th>oil_price_2000</th>\n",
       "      <th>oil_price_nom</th>\n",
       "      <th>oil_value_nom</th>\n",
       "      <th>oil_value_2000</th>\n",
       "      <th>oil_value_2014</th>\n",
       "    </tr>\n",
       "  </thead>\n",
       "  <tbody>\n",
       "    <tr>\n",
       "      <th>0</th>\n",
       "      <td>Afghanistan</td>\n",
       "      <td>4</td>\n",
       "      <td>AFG</td>\n",
       "      <td>1932</td>\n",
       "      <td>Afghanistan</td>\n",
       "      <td>NaN</td>\n",
       "      <td>10.860860</td>\n",
       "      <td>0.870000</td>\n",
       "      <td>NaN</td>\n",
       "      <td>NaN</td>\n",
       "      <td>NaN</td>\n",
       "    </tr>\n",
       "    <tr>\n",
       "      <th>1</th>\n",
       "      <td>Afghanistan</td>\n",
       "      <td>4</td>\n",
       "      <td>AFG</td>\n",
       "      <td>1933</td>\n",
       "      <td>Afghanistan</td>\n",
       "      <td>NaN</td>\n",
       "      <td>8.815239</td>\n",
       "      <td>0.670000</td>\n",
       "      <td>NaN</td>\n",
       "      <td>NaN</td>\n",
       "      <td>NaN</td>\n",
       "    </tr>\n",
       "    <tr>\n",
       "      <th>2</th>\n",
       "      <td>Afghanistan</td>\n",
       "      <td>4</td>\n",
       "      <td>AFG</td>\n",
       "      <td>1934</td>\n",
       "      <td>Afghanistan</td>\n",
       "      <td>NaN</td>\n",
       "      <td>12.715790</td>\n",
       "      <td>1.000000</td>\n",
       "      <td>NaN</td>\n",
       "      <td>NaN</td>\n",
       "      <td>NaN</td>\n",
       "    </tr>\n",
       "    <tr>\n",
       "      <th>3</th>\n",
       "      <td>Afghanistan</td>\n",
       "      <td>4</td>\n",
       "      <td>AFG</td>\n",
       "      <td>1935</td>\n",
       "      <td>Afghanistan</td>\n",
       "      <td>NaN</td>\n",
       "      <td>12.039690</td>\n",
       "      <td>0.970000</td>\n",
       "      <td>NaN</td>\n",
       "      <td>NaN</td>\n",
       "      <td>NaN</td>\n",
       "    </tr>\n",
       "    <tr>\n",
       "      <th>4</th>\n",
       "      <td>Afghanistan</td>\n",
       "      <td>4</td>\n",
       "      <td>AFG</td>\n",
       "      <td>1936</td>\n",
       "      <td>Afghanistan</td>\n",
       "      <td>NaN</td>\n",
       "      <td>13.383210</td>\n",
       "      <td>1.090000</td>\n",
       "      <td>NaN</td>\n",
       "      <td>NaN</td>\n",
       "      <td>NaN</td>\n",
       "    </tr>\n",
       "    <tr>\n",
       "      <th>...</th>\n",
       "      <td>...</td>\n",
       "      <td>...</td>\n",
       "      <td>...</td>\n",
       "      <td>...</td>\n",
       "      <td>...</td>\n",
       "      <td>...</td>\n",
       "      <td>...</td>\n",
       "      <td>...</td>\n",
       "      <td>...</td>\n",
       "      <td>...</td>\n",
       "      <td>...</td>\n",
       "    </tr>\n",
       "    <tr>\n",
       "      <th>15516</th>\n",
       "      <td>Zimbabwe</td>\n",
       "      <td>716</td>\n",
       "      <td>ZWE</td>\n",
       "      <td>2010</td>\n",
       "      <td>Zimbabwe</td>\n",
       "      <td>0.0</td>\n",
       "      <td>62.778052</td>\n",
       "      <td>79.495534</td>\n",
       "      <td>0.0</td>\n",
       "      <td>0.0</td>\n",
       "      <td>0.0</td>\n",
       "    </tr>\n",
       "    <tr>\n",
       "      <th>15517</th>\n",
       "      <td>Zimbabwe</td>\n",
       "      <td>716</td>\n",
       "      <td>ZWE</td>\n",
       "      <td>2011</td>\n",
       "      <td>Zimbabwe</td>\n",
       "      <td>0.0</td>\n",
       "      <td>85.170708</td>\n",
       "      <td>111.255598</td>\n",
       "      <td>0.0</td>\n",
       "      <td>0.0</td>\n",
       "      <td>0.0</td>\n",
       "    </tr>\n",
       "    <tr>\n",
       "      <th>15518</th>\n",
       "      <td>Zimbabwe</td>\n",
       "      <td>716</td>\n",
       "      <td>ZWE</td>\n",
       "      <td>2012</td>\n",
       "      <td>Zimbabwe</td>\n",
       "      <td>0.0</td>\n",
       "      <td>83.754465</td>\n",
       "      <td>111.669702</td>\n",
       "      <td>0.0</td>\n",
       "      <td>0.0</td>\n",
       "      <td>0.0</td>\n",
       "    </tr>\n",
       "    <tr>\n",
       "      <th>15519</th>\n",
       "      <td>Zimbabwe</td>\n",
       "      <td>716</td>\n",
       "      <td>ZWE</td>\n",
       "      <td>2013</td>\n",
       "      <td>Zimbabwe</td>\n",
       "      <td>0.0</td>\n",
       "      <td>80.319530</td>\n",
       "      <td>108.658518</td>\n",
       "      <td>0.0</td>\n",
       "      <td>0.0</td>\n",
       "      <td>0.0</td>\n",
       "    </tr>\n",
       "    <tr>\n",
       "      <th>15520</th>\n",
       "      <td>Zimbabwe</td>\n",
       "      <td>716</td>\n",
       "      <td>ZWE</td>\n",
       "      <td>2014</td>\n",
       "      <td>Zimbabwe</td>\n",
       "      <td>0.0</td>\n",
       "      <td>71.972588</td>\n",
       "      <td>98.946008</td>\n",
       "      <td>0.0</td>\n",
       "      <td>0.0</td>\n",
       "      <td>0.0</td>\n",
       "    </tr>\n",
       "  </tbody>\n",
       "</table>\n",
       "<p>15521 rows × 11 columns</p>\n",
       "</div>"
      ],
      "text/plain": [
       "          cty_name  iso3numeric   id  year       eiacty  oil_prod32_14  \\\n",
       "0      Afghanistan            4  AFG  1932  Afghanistan            NaN   \n",
       "1      Afghanistan            4  AFG  1933  Afghanistan            NaN   \n",
       "2      Afghanistan            4  AFG  1934  Afghanistan            NaN   \n",
       "3      Afghanistan            4  AFG  1935  Afghanistan            NaN   \n",
       "4      Afghanistan            4  AFG  1936  Afghanistan            NaN   \n",
       "...            ...          ...  ...   ...          ...            ...   \n",
       "15516     Zimbabwe          716  ZWE  2010     Zimbabwe            0.0   \n",
       "15517     Zimbabwe          716  ZWE  2011     Zimbabwe            0.0   \n",
       "15518     Zimbabwe          716  ZWE  2012     Zimbabwe            0.0   \n",
       "15519     Zimbabwe          716  ZWE  2013     Zimbabwe            0.0   \n",
       "15520     Zimbabwe          716  ZWE  2014     Zimbabwe            0.0   \n",
       "\n",
       "       oil_price_2000  oil_price_nom  oil_value_nom  oil_value_2000  \\\n",
       "0           10.860860       0.870000            NaN             NaN   \n",
       "1            8.815239       0.670000            NaN             NaN   \n",
       "2           12.715790       1.000000            NaN             NaN   \n",
       "3           12.039690       0.970000            NaN             NaN   \n",
       "4           13.383210       1.090000            NaN             NaN   \n",
       "...               ...            ...            ...             ...   \n",
       "15516       62.778052      79.495534            0.0             0.0   \n",
       "15517       85.170708     111.255598            0.0             0.0   \n",
       "15518       83.754465     111.669702            0.0             0.0   \n",
       "15519       80.319530     108.658518            0.0             0.0   \n",
       "15520       71.972588      98.946008            0.0             0.0   \n",
       "\n",
       "       oil_value_2014  \n",
       "0                 NaN  \n",
       "1                 NaN  \n",
       "2                 NaN  \n",
       "3                 NaN  \n",
       "4                 NaN  \n",
       "...               ...  \n",
       "15516             0.0  \n",
       "15517             0.0  \n",
       "15518             0.0  \n",
       "15519             0.0  \n",
       "15520             0.0  \n",
       "\n",
       "[15521 rows x 11 columns]"
      ]
     },
     "execution_count": 6,
     "metadata": {},
     "output_type": "execute_result"
    }
   ],
   "source": [
    "oilproduction"
   ]
  },
  {
   "cell_type": "markdown",
   "metadata": {},
   "source": [
    "### total oil production for respective city"
   ]
  },
  {
   "cell_type": "code",
   "execution_count": 7,
   "metadata": {
    "scrolled": true
   },
   "outputs": [
    {
     "data": {
      "text/html": [
       "<div>\n",
       "<style scoped>\n",
       "    .dataframe tbody tr th:only-of-type {\n",
       "        vertical-align: middle;\n",
       "    }\n",
       "\n",
       "    .dataframe tbody tr th {\n",
       "        vertical-align: top;\n",
       "    }\n",
       "\n",
       "    .dataframe thead th {\n",
       "        text-align: right;\n",
       "    }\n",
       "</style>\n",
       "<table border=\"1\" class=\"dataframe\">\n",
       "  <thead>\n",
       "    <tr style=\"text-align: right;\">\n",
       "      <th></th>\n",
       "      <th>cty_name</th>\n",
       "      <th>oil_prod32_14</th>\n",
       "    </tr>\n",
       "  </thead>\n",
       "  <tbody>\n",
       "    <tr>\n",
       "      <th>0</th>\n",
       "      <td>Afghanistan</td>\n",
       "      <td>0.000000e+00</td>\n",
       "    </tr>\n",
       "    <tr>\n",
       "      <th>1</th>\n",
       "      <td>Albania</td>\n",
       "      <td>5.894998e+07</td>\n",
       "    </tr>\n",
       "    <tr>\n",
       "      <th>2</th>\n",
       "      <td>Algeria</td>\n",
       "      <td>2.790063e+09</td>\n",
       "    </tr>\n",
       "    <tr>\n",
       "      <th>3</th>\n",
       "      <td>Angola</td>\n",
       "      <td>1.589131e+09</td>\n",
       "    </tr>\n",
       "    <tr>\n",
       "      <th>4</th>\n",
       "      <td>Argentina</td>\n",
       "      <td>1.548014e+09</td>\n",
       "    </tr>\n",
       "    <tr>\n",
       "      <th>...</th>\n",
       "      <td>...</td>\n",
       "      <td>...</td>\n",
       "    </tr>\n",
       "    <tr>\n",
       "      <th>182</th>\n",
       "      <td>Yemen, Dem. Rep. (South Yemen)</td>\n",
       "      <td>0.000000e+00</td>\n",
       "    </tr>\n",
       "    <tr>\n",
       "      <th>183</th>\n",
       "      <td>Yemen, Rep.</td>\n",
       "      <td>3.914048e+08</td>\n",
       "    </tr>\n",
       "    <tr>\n",
       "      <th>184</th>\n",
       "      <td>Yugoslavia, Fed. Rep.</td>\n",
       "      <td>1.005658e+08</td>\n",
       "    </tr>\n",
       "    <tr>\n",
       "      <th>185</th>\n",
       "      <td>Zambia</td>\n",
       "      <td>0.000000e+00</td>\n",
       "    </tr>\n",
       "    <tr>\n",
       "      <th>186</th>\n",
       "      <td>Zimbabwe</td>\n",
       "      <td>0.000000e+00</td>\n",
       "    </tr>\n",
       "  </tbody>\n",
       "</table>\n",
       "<p>187 rows × 2 columns</p>\n",
       "</div>"
      ],
      "text/plain": [
       "                           cty_name  oil_prod32_14\n",
       "0                       Afghanistan   0.000000e+00\n",
       "1                           Albania   5.894998e+07\n",
       "2                           Algeria   2.790063e+09\n",
       "3                            Angola   1.589131e+09\n",
       "4                         Argentina   1.548014e+09\n",
       "..                              ...            ...\n",
       "182  Yemen, Dem. Rep. (South Yemen)   0.000000e+00\n",
       "183                     Yemen, Rep.   3.914048e+08\n",
       "184           Yugoslavia, Fed. Rep.   1.005658e+08\n",
       "185                          Zambia   0.000000e+00\n",
       "186                        Zimbabwe   0.000000e+00\n",
       "\n",
       "[187 rows x 2 columns]"
      ]
     },
     "execution_count": 7,
     "metadata": {},
     "output_type": "execute_result"
    }
   ],
   "source": [
    "oilProdcity = pd.DataFrame(oilproduction[['cty_name','oil_prod32_14']].groupby(['cty_name']).sum()).reset_index();oilProdcity"
   ]
  },
  {
   "cell_type": "markdown",
   "metadata": {},
   "source": [
    "### Places with no contribution in Oil Productions\n"
   ]
  },
  {
   "cell_type": "code",
   "execution_count": 8,
   "metadata": {
    "scrolled": false
   },
   "outputs": [
    {
     "name": "stdout",
     "output_type": "stream",
     "text": [
      "['Afghanistan', 'Armenia', 'Bahamas, The', 'Belgium', 'Bhutan', 'Bosnia and Herzegovina', 'Botswana', 'Burkina Faso', 'Burundi', 'Cambodia', 'Cape Verde', 'Central African Republic', 'Comoros', 'Costa Rica', 'Cyprus', 'Djibouti', 'Dominican Republic', 'El Salvador', 'Eritrea', 'Ethiopia', 'Ethiopia including Eritrea', 'Fiji', 'Finland', 'Gambia, The', 'Guinea', 'Guinea-Bissau', 'Guyana', 'Haiti', 'Honduras', 'Iceland', 'Ireland', 'Jamaica', 'Kenya', 'Korea, Dem. Rep.', 'Korea, Rep.', 'Lao PDR', 'Latvia', 'Lebanon', 'Lesotho', 'Liberia', 'Luxembourg', 'Macedonia, FYR', 'Madagascar', 'Malawi', 'Maldives', 'Mali', 'Malta', 'Mauritius', 'Moldova', 'Montenegro', 'Mozambique', 'Namibia', 'Nepal', 'Nicaragua', 'North Vietnam', 'Panama', 'Paraguay', 'Portugal', 'Rwanda', 'Sierra Leone', 'Singapore', 'Solomon Islands', 'Somalia', 'South Vietnam', 'Sri Lanka', 'Swaziland', 'Switzerland', 'Tanzania', 'Togo', 'Uganda', 'Uruguay', 'Yemen, Dem. Rep. (South Yemen)', 'Zambia', 'Zimbabwe']\n"
     ]
    },
    {
     "data": {
      "text/plain": [
       "74"
      ]
     },
     "execution_count": 8,
     "metadata": {},
     "output_type": "execute_result"
    }
   ],
   "source": [
    "no_oilprod = [i for i in oilProdcity.loc[oilProdcity.oil_prod32_14 == 0]['cty_name']];print(no_oilprod);len(no_oilprod)"
   ]
  },
  {
   "cell_type": "markdown",
   "metadata": {},
   "source": [
    " __There are 74 city have no contribution on oil Production"
   ]
  },
  {
   "cell_type": "markdown",
   "metadata": {},
   "source": [
    "### Top 10 Places with highest contribution on oil production"
   ]
  },
  {
   "cell_type": "code",
   "execution_count": 9,
   "metadata": {},
   "outputs": [
    {
     "name": "stdout",
     "output_type": "stream",
     "text": [
      "               cty_name  oil_prod32_14\n",
      "176       United States   2.773979e+10\n",
      "138  Russian Federation   2.440140e+10\n",
      "140        Saudi Arabia   1.916382e+10\n",
      "153        Soviet Union   1.467100e+10\n",
      "79   Iran, Islamic Rep.   9.617339e+09\n",
      "179       Venezuela, RB   9.180203e+09\n",
      "33                China   6.295581e+09\n",
      "91               Kuwait   6.167662e+09\n",
      "110              Mexico   5.910809e+09\n",
      "80                 Iraq   5.197307e+09\n"
     ]
    },
    {
     "data": {
      "text/plain": [
       "<matplotlib.axes._subplots.AxesSubplot at 0x2bb5a5975c0>"
      ]
     },
     "execution_count": 9,
     "metadata": {},
     "output_type": "execute_result"
    },
    {
     "data": {
      "image/png": "[encoded data removed]",
      "text/plain": [
       "<Figure size 1080x432 with 1 Axes>"
      ]
     },
     "metadata": {
      "needs_background": "light"
     },
     "output_type": "display_data"
    }
   ],
   "source": [
    "print(oilProdcity.sort_values('oil_prod32_14',ascending=False).head(10))\n",
    "fig = plt.figure(figsize=(15,6))\n",
    "ax = fig.add_subplot(1,1,1)\n",
    "oilProdcity.sort_values('oil_prod32_14',ascending=False).head(10).plot(x ='cty_name' ,y='oil_prod32_14',kind = 'bar',color='green',ax=ax)\n",
    "                                                                       "
   ]
  },
  {
   "cell_type": "markdown",
   "metadata": {},
   "source": [
    "### Oil Production over decades"
   ]
  },
  {
   "cell_type": "code",
   "execution_count": 10,
   "metadata": {},
   "outputs": [
    {
     "name": "stdout",
     "output_type": "stream",
     "text": [
      "    year  oil_prod32_14\n",
      "82  2014   3.837105e+09\n",
      "81  2013   3.776015e+09\n",
      "80  2012   3.755662e+09\n",
      "47  1979   3.739902e+09\n",
      "79  2011   3.666481e+09\n",
      "58  1990   3.659606e+09\n",
      "78  2010   3.649273e+09\n",
      "57  1989   3.633945e+09\n",
      "76  2008   3.622378e+09\n",
      "48  1980   3.617329e+09\n"
     ]
    }
   ],
   "source": [
    "oilProdyear=pd.DataFrame(oilproduction[['year','oil_prod32_14']].groupby('year').sum()).reset_index()\n",
    "print(oilProdyear.sort_values('oil_prod32_14',ascending=False).head(10))"
   ]
  },
  {
   "cell_type": "code",
   "execution_count": 11,
   "metadata": {},
   "outputs": [
    {
     "data": {
      "image/png": "[encoded data removed]",
      "text/plain": [
       "<Figure size 1080x288 with 1 Axes>"
      ]
     },
     "metadata": {
      "needs_background": "light"
     },
     "output_type": "display_data"
    }
   ],
   "source": [
    "fig = plt.figure(figsize=(15,4))\n",
    "ax = fig.add_subplot(1,1,1)\n",
    "oilProdyear.plot(x = 'year',y = 'oil_prod32_14',kind = 'line',ax=ax,linewidth=5,c='green')\n",
    "plt.show()"
   ]
  },
  {
   "cell_type": "code",
   "execution_count": null,
   "metadata": {},
   "outputs": [],
   "source": []
  },
  {
   "cell_type": "markdown",
   "metadata": {},
   "source": [
    "## Selecting the Gas Production Part Only"
   ]
  },
  {
   "cell_type": "code",
   "execution_count": 12,
   "metadata": {},
   "outputs": [],
   "source": [
    "req = ['cty_name','iso3numeric','id','year','eiacty']\n",
    "req.extend([i for i in df.columns if 'gas' in i and 'export' not in i and 'oil' not in i])\n",
    "gasproduction = df[req]"
   ]
  },
  {
   "cell_type": "code",
   "execution_count": 13,
   "metadata": {},
   "outputs": [
    {
     "data": {
      "text/html": [
       "<div>\n",
       "<style scoped>\n",
       "    .dataframe tbody tr th:only-of-type {\n",
       "        vertical-align: middle;\n",
       "    }\n",
       "\n",
       "    .dataframe tbody tr th {\n",
       "        vertical-align: top;\n",
       "    }\n",
       "\n",
       "    .dataframe thead th {\n",
       "        text-align: right;\n",
       "    }\n",
       "</style>\n",
       "<table border=\"1\" class=\"dataframe\">\n",
       "  <thead>\n",
       "    <tr style=\"text-align: right;\">\n",
       "      <th></th>\n",
       "      <th>cty_name</th>\n",
       "      <th>iso3numeric</th>\n",
       "      <th>id</th>\n",
       "      <th>year</th>\n",
       "      <th>eiacty</th>\n",
       "      <th>gas_prod55_14</th>\n",
       "      <th>gas_price_2000_mboe</th>\n",
       "      <th>gas_price_2000</th>\n",
       "      <th>gas_price_nom</th>\n",
       "      <th>gas_value_nom</th>\n",
       "      <th>gas_value_2000</th>\n",
       "      <th>gas_value_2014</th>\n",
       "    </tr>\n",
       "  </thead>\n",
       "  <tbody>\n",
       "    <tr>\n",
       "      <th>0</th>\n",
       "      <td>Afghanistan</td>\n",
       "      <td>4</td>\n",
       "      <td>AFG</td>\n",
       "      <td>1932</td>\n",
       "      <td>Afghanistan</td>\n",
       "      <td>NaN</td>\n",
       "      <td>0.000000e+00</td>\n",
       "      <td>NaN</td>\n",
       "      <td>0.060000</td>\n",
       "      <td>NaN</td>\n",
       "      <td>NaN</td>\n",
       "      <td>NaN</td>\n",
       "    </tr>\n",
       "    <tr>\n",
       "      <th>1</th>\n",
       "      <td>Afghanistan</td>\n",
       "      <td>4</td>\n",
       "      <td>AFG</td>\n",
       "      <td>1933</td>\n",
       "      <td>Afghanistan</td>\n",
       "      <td>NaN</td>\n",
       "      <td>0.000000e+00</td>\n",
       "      <td>NaN</td>\n",
       "      <td>0.060000</td>\n",
       "      <td>NaN</td>\n",
       "      <td>NaN</td>\n",
       "      <td>NaN</td>\n",
       "    </tr>\n",
       "    <tr>\n",
       "      <th>2</th>\n",
       "      <td>Afghanistan</td>\n",
       "      <td>4</td>\n",
       "      <td>AFG</td>\n",
       "      <td>1934</td>\n",
       "      <td>Afghanistan</td>\n",
       "      <td>NaN</td>\n",
       "      <td>0.000000e+00</td>\n",
       "      <td>NaN</td>\n",
       "      <td>0.060000</td>\n",
       "      <td>NaN</td>\n",
       "      <td>NaN</td>\n",
       "      <td>NaN</td>\n",
       "    </tr>\n",
       "    <tr>\n",
       "      <th>3</th>\n",
       "      <td>Afghanistan</td>\n",
       "      <td>4</td>\n",
       "      <td>AFG</td>\n",
       "      <td>1935</td>\n",
       "      <td>Afghanistan</td>\n",
       "      <td>NaN</td>\n",
       "      <td>0.000000e+00</td>\n",
       "      <td>NaN</td>\n",
       "      <td>0.060000</td>\n",
       "      <td>NaN</td>\n",
       "      <td>NaN</td>\n",
       "      <td>NaN</td>\n",
       "    </tr>\n",
       "    <tr>\n",
       "      <th>4</th>\n",
       "      <td>Afghanistan</td>\n",
       "      <td>4</td>\n",
       "      <td>AFG</td>\n",
       "      <td>1936</td>\n",
       "      <td>Afghanistan</td>\n",
       "      <td>NaN</td>\n",
       "      <td>0.000000e+00</td>\n",
       "      <td>NaN</td>\n",
       "      <td>0.060000</td>\n",
       "      <td>NaN</td>\n",
       "      <td>NaN</td>\n",
       "      <td>NaN</td>\n",
       "    </tr>\n",
       "    <tr>\n",
       "      <th>...</th>\n",
       "      <td>...</td>\n",
       "      <td>...</td>\n",
       "      <td>...</td>\n",
       "      <td>...</td>\n",
       "      <td>...</td>\n",
       "      <td>...</td>\n",
       "      <td>...</td>\n",
       "      <td>...</td>\n",
       "      <td>...</td>\n",
       "      <td>...</td>\n",
       "      <td>...</td>\n",
       "      <td>...</td>\n",
       "    </tr>\n",
       "    <tr>\n",
       "      <th>15516</th>\n",
       "      <td>Zimbabwe</td>\n",
       "      <td>716</td>\n",
       "      <td>ZWE</td>\n",
       "      <td>2010</td>\n",
       "      <td>Zimbabwe</td>\n",
       "      <td>0.0</td>\n",
       "      <td>1.915340e+07</td>\n",
       "      <td>3.537880</td>\n",
       "      <td>4.480000</td>\n",
       "      <td>0.0</td>\n",
       "      <td>0.0</td>\n",
       "      <td>0.0</td>\n",
       "    </tr>\n",
       "    <tr>\n",
       "      <th>15517</th>\n",
       "      <td>Zimbabwe</td>\n",
       "      <td>716</td>\n",
       "      <td>ZWE</td>\n",
       "      <td>2011</td>\n",
       "      <td>Zimbabwe</td>\n",
       "      <td>0.0</td>\n",
       "      <td>1.637074e+07</td>\n",
       "      <td>3.023886</td>\n",
       "      <td>3.950000</td>\n",
       "      <td>0.0</td>\n",
       "      <td>0.0</td>\n",
       "      <td>0.0</td>\n",
       "    </tr>\n",
       "    <tr>\n",
       "      <th>15518</th>\n",
       "      <td>Zimbabwe</td>\n",
       "      <td>716</td>\n",
       "      <td>ZWE</td>\n",
       "      <td>2012</td>\n",
       "      <td>Zimbabwe</td>\n",
       "      <td>0.0</td>\n",
       "      <td>1.080083e+07</td>\n",
       "      <td>1.995052</td>\n",
       "      <td>2.660000</td>\n",
       "      <td>0.0</td>\n",
       "      <td>0.0</td>\n",
       "      <td>0.0</td>\n",
       "    </tr>\n",
       "    <tr>\n",
       "      <th>15519</th>\n",
       "      <td>Zimbabwe</td>\n",
       "      <td>716</td>\n",
       "      <td>ZWE</td>\n",
       "      <td>2013</td>\n",
       "      <td>Zimbabwe</td>\n",
       "      <td>0.0</td>\n",
       "      <td>1.483600e+07</td>\n",
       "      <td>2.740400</td>\n",
       "      <td>3.707290</td>\n",
       "      <td>0.0</td>\n",
       "      <td>0.0</td>\n",
       "      <td>0.0</td>\n",
       "    </tr>\n",
       "    <tr>\n",
       "      <th>15520</th>\n",
       "      <td>Zimbabwe</td>\n",
       "      <td>716</td>\n",
       "      <td>ZWE</td>\n",
       "      <td>2014</td>\n",
       "      <td>Zimbabwe</td>\n",
       "      <td>NaN</td>\n",
       "      <td>1.712125e+07</td>\n",
       "      <td>3.162515</td>\n",
       "      <td>4.347742</td>\n",
       "      <td>NaN</td>\n",
       "      <td>NaN</td>\n",
       "      <td>NaN</td>\n",
       "    </tr>\n",
       "  </tbody>\n",
       "</table>\n",
       "<p>15521 rows × 12 columns</p>\n",
       "</div>"
      ],
      "text/plain": [
       "          cty_name  iso3numeric   id  year       eiacty  gas_prod55_14  \\\n",
       "0      Afghanistan            4  AFG  1932  Afghanistan            NaN   \n",
       "1      Afghanistan            4  AFG  1933  Afghanistan            NaN   \n",
       "2      Afghanistan            4  AFG  1934  Afghanistan            NaN   \n",
       "3      Afghanistan            4  AFG  1935  Afghanistan            NaN   \n",
       "4      Afghanistan            4  AFG  1936  Afghanistan            NaN   \n",
       "...            ...          ...  ...   ...          ...            ...   \n",
       "15516     Zimbabwe          716  ZWE  2010     Zimbabwe            0.0   \n",
       "15517     Zimbabwe          716  ZWE  2011     Zimbabwe            0.0   \n",
       "15518     Zimbabwe          716  ZWE  2012     Zimbabwe            0.0   \n",
       "15519     Zimbabwe          716  ZWE  2013     Zimbabwe            0.0   \n",
       "15520     Zimbabwe          716  ZWE  2014     Zimbabwe            NaN   \n",
       "\n",
       "       gas_price_2000_mboe  gas_price_2000  gas_price_nom  gas_value_nom  \\\n",
       "0             0.000000e+00             NaN       0.060000            NaN   \n",
       "1             0.000000e+00             NaN       0.060000            NaN   \n",
       "2             0.000000e+00             NaN       0.060000            NaN   \n",
       "3             0.000000e+00             NaN       0.060000            NaN   \n",
       "4             0.000000e+00             NaN       0.060000            NaN   \n",
       "...                    ...             ...            ...            ...   \n",
       "15516         1.915340e+07        3.537880       4.480000            0.0   \n",
       "15517         1.637074e+07        3.023886       3.950000            0.0   \n",
       "15518         1.080083e+07        1.995052       2.660000            0.0   \n",
       "15519         1.483600e+07        2.740400       3.707290            0.0   \n",
       "15520         1.712125e+07        3.162515       4.347742            NaN   \n",
       "\n",
       "       gas_value_2000  gas_value_2014  \n",
       "0                 NaN             NaN  \n",
       "1                 NaN             NaN  \n",
       "2                 NaN             NaN  \n",
       "3                 NaN             NaN  \n",
       "4                 NaN             NaN  \n",
       "...               ...             ...  \n",
       "15516             0.0             0.0  \n",
       "15517             0.0             0.0  \n",
       "15518             0.0             0.0  \n",
       "15519             0.0             0.0  \n",
       "15520             NaN             NaN  \n",
       "\n",
       "[15521 rows x 12 columns]"
      ]
     },
     "execution_count": 13,
     "metadata": {},
     "output_type": "execute_result"
    }
   ],
   "source": [
    "gasproduction"
   ]
  },
  {
   "cell_type": "markdown",
   "metadata": {},
   "source": [
    "### Top 10 Places with highest contribution on Gas production"
   ]
  },
  {
   "cell_type": "code",
   "execution_count": 14,
   "metadata": {},
   "outputs": [
    {
     "data": {
      "text/html": [
       "<div>\n",
       "<style scoped>\n",
       "    .dataframe tbody tr th:only-of-type {\n",
       "        vertical-align: middle;\n",
       "    }\n",
       "\n",
       "    .dataframe tbody tr th {\n",
       "        vertical-align: top;\n",
       "    }\n",
       "\n",
       "    .dataframe thead th {\n",
       "        text-align: right;\n",
       "    }\n",
       "</style>\n",
       "<table border=\"1\" class=\"dataframe\">\n",
       "  <thead>\n",
       "    <tr style=\"text-align: right;\">\n",
       "      <th></th>\n",
       "      <th>cty_name</th>\n",
       "      <th>gas_prod55_14</th>\n",
       "    </tr>\n",
       "  </thead>\n",
       "  <tbody>\n",
       "    <tr>\n",
       "      <th>176</th>\n",
       "      <td>United States</td>\n",
       "      <td>230841.395522</td>\n",
       "    </tr>\n",
       "    <tr>\n",
       "      <th>138</th>\n",
       "      <td>Russian Federation</td>\n",
       "      <td>166099.951904</td>\n",
       "    </tr>\n",
       "    <tr>\n",
       "      <th>153</th>\n",
       "      <td>Soviet Union</td>\n",
       "      <td>75046.012365</td>\n",
       "    </tr>\n",
       "    <tr>\n",
       "      <th>28</th>\n",
       "      <td>Canada</td>\n",
       "      <td>45192.481569</td>\n",
       "    </tr>\n",
       "    <tr>\n",
       "      <th>2</th>\n",
       "      <td>Algeria</td>\n",
       "      <td>28507.412153</td>\n",
       "    </tr>\n",
       "    <tr>\n",
       "      <th>79</th>\n",
       "      <td>Iran, Islamic Rep.</td>\n",
       "      <td>23486.333617</td>\n",
       "    </tr>\n",
       "    <tr>\n",
       "      <th>119</th>\n",
       "      <td>Netherlands</td>\n",
       "      <td>21824.475517</td>\n",
       "    </tr>\n",
       "    <tr>\n",
       "      <th>175</th>\n",
       "      <td>United Kingdom</td>\n",
       "      <td>18336.162824</td>\n",
       "    </tr>\n",
       "    <tr>\n",
       "      <th>125</th>\n",
       "      <td>Norway</td>\n",
       "      <td>16943.140489</td>\n",
       "    </tr>\n",
       "    <tr>\n",
       "      <th>140</th>\n",
       "      <td>Saudi Arabia</td>\n",
       "      <td>15851.259404</td>\n",
       "    </tr>\n",
       "  </tbody>\n",
       "</table>\n",
       "</div>"
      ],
      "text/plain": [
       "               cty_name  gas_prod55_14\n",
       "176       United States  230841.395522\n",
       "138  Russian Federation  166099.951904\n",
       "153        Soviet Union   75046.012365\n",
       "28               Canada   45192.481569\n",
       "2               Algeria   28507.412153\n",
       "79   Iran, Islamic Rep.   23486.333617\n",
       "119         Netherlands   21824.475517\n",
       "175      United Kingdom   18336.162824\n",
       "125              Norway   16943.140489\n",
       "140        Saudi Arabia   15851.259404"
      ]
     },
     "execution_count": 14,
     "metadata": {},
     "output_type": "execute_result"
    }
   ],
   "source": [
    "gasProdcity = pd.DataFrame(gasproduction[['cty_name','gas_prod55_14']].groupby(['cty_name']).sum()).reset_index()\n",
    "gasProdcity.sort_values('gas_prod55_14',ascending=False).head(10)"
   ]
  },
  {
   "cell_type": "markdown",
   "metadata": {},
   "source": [
    "### Places with no Gas Production"
   ]
  },
  {
   "cell_type": "code",
   "execution_count": 15,
   "metadata": {
    "scrolled": false
   },
   "outputs": [
    {
     "name": "stdout",
     "output_type": "stream",
     "text": [
      "['Armenia', 'Bahamas, The', 'Belize', 'Benin', 'Bhutan', 'Bosnia and Herzegovina', 'Botswana', 'Burkina Faso', 'Burundi', 'Cambodia', 'Cape Verde', 'Central African Republic', 'Comoros', 'Costa Rica', 'Cyprus', 'Djibouti', 'Dominican Republic', 'East Timor', 'El Salvador', 'Eritrea', 'Estonia', 'Ethiopia', 'Ethiopia including Eritrea', 'Fiji', 'Gambia, The', 'Guinea', 'Guinea-Bissau', 'Guyana', 'Haiti', 'Honduras', 'Iceland', 'Jamaica', 'Kenya', 'Korea, Dem. Rep.', 'Lao PDR', 'Latvia', 'Lebanon', 'Lesotho', 'Liberia', 'Lithuania', 'Macedonia, FYR', 'Madagascar', 'Malawi', 'Maldives', 'Mali', 'Malta', 'Mauritania', 'Mauritius', 'Mongolia', 'Montenegro', 'Namibia', 'Nepal', 'Nicaragua', 'Niger', 'North Vietnam', 'Panama', 'Paraguay', 'Portugal', 'Sierra Leone', 'Singapore', 'Solomon Islands', 'Somalia', 'South Sudan', 'South Vietnam', 'Sri Lanka', 'Sudan', 'Sudan including South Sudan', 'Suriname', 'Swaziland', 'Sweden', 'Togo', 'Uganda', 'Uruguay', 'Yemen Arab Rep. (North Yemen)', 'Yemen, Dem. Rep. (South Yemen)', 'Zambia', 'Zimbabwe']\n"
     ]
    },
    {
     "data": {
      "text/plain": [
       "77"
      ]
     },
     "execution_count": 15,
     "metadata": {},
     "output_type": "execute_result"
    }
   ],
   "source": [
    "no_gasprod = [i for i in gasProdcity.loc[gasProdcity.gas_prod55_14 == 0]['cty_name']];print(no_gasprod);len(no_gasprod)"
   ]
  },
  {
   "cell_type": "markdown",
   "metadata": {},
   "source": [
    "### Places with no Gas as well as no Oil Production"
   ]
  },
  {
   "cell_type": "code",
   "execution_count": 16,
   "metadata": {
    "scrolled": true
   },
   "outputs": [
    {
     "name": "stdout",
     "output_type": "stream",
     "text": [
      "['Armenia', 'Bahamas, The', 'Bhutan', 'Bosnia and Herzegovina', 'Botswana', 'Burkina Faso', 'Burundi', 'Cambodia', 'Cape Verde', 'Central African Republic', 'Comoros', 'Costa Rica', 'Cyprus', 'Djibouti', 'Dominican Republic', 'El Salvador', 'Eritrea', 'Ethiopia', 'Ethiopia including Eritrea', 'Fiji', 'Gambia, The', 'Guinea', 'Guinea-Bissau', 'Guyana', 'Haiti', 'Honduras', 'Iceland', 'Jamaica', 'Kenya', 'Korea, Dem. Rep.', 'Lao PDR', 'Latvia', 'Lebanon', 'Lesotho', 'Liberia', 'Macedonia, FYR', 'Madagascar', 'Malawi', 'Maldives', 'Mali', 'Malta', 'Mauritius', 'Montenegro', 'Namibia', 'Nepal', 'Nicaragua', 'North Vietnam', 'Panama', 'Paraguay', 'Portugal', 'Sierra Leone', 'Singapore', 'Solomon Islands', 'Somalia', 'South Vietnam', 'Sri Lanka', 'Swaziland', 'Togo', 'Uganda', 'Uruguay', 'Yemen, Dem. Rep. (South Yemen)', 'Zambia', 'Zimbabwe']\n"
     ]
    },
    {
     "data": {
      "text/plain": [
       "63"
      ]
     },
     "execution_count": 16,
     "metadata": {},
     "output_type": "execute_result"
    }
   ],
   "source": [
    "no_gas_oil_prod = [i for i in no_gasprod if i in no_oilprod];print(no_gas_oil_prod);len(no_gas_oil_prod)"
   ]
  },
  {
   "cell_type": "code",
   "execution_count": 17,
   "metadata": {},
   "outputs": [
    {
     "data": {
      "text/plain": [
       "'Number of countries with no contribution in gas production is 77 and  no contribution in oil Production is 74 and no contribution in gas as well as oil production is 63 '"
      ]
     },
     "execution_count": 17,
     "metadata": {},
     "output_type": "execute_result"
    }
   ],
   "source": [
    "f\"Number of countries with no contribution in gas production is {len(no_gasprod)} and  no contribution in oil Production is {len(no_oilprod)} and no contribution in gas as well as oil production is {len(no_gas_oil_prod)} \""
   ]
  },
  {
   "cell_type": "markdown",
   "metadata": {},
   "source": [
    "### Places with only Oil Production"
   ]
  },
  {
   "cell_type": "code",
   "execution_count": 18,
   "metadata": {},
   "outputs": [
    {
     "name": "stdout",
     "output_type": "stream",
     "text": [
      "['Belize', 'Benin', 'East Timor', 'Estonia', 'Lithuania', 'Mauritania', 'Mongolia', 'Niger', 'South Sudan', 'Sudan', 'Sudan including South Sudan', 'Suriname', 'Sweden', 'Yemen Arab Rep. (North Yemen)']\n"
     ]
    },
    {
     "data": {
      "text/plain": [
       "14"
      ]
     },
     "execution_count": 18,
     "metadata": {},
     "output_type": "execute_result"
    }
   ],
   "source": [
    "no_gas_but_oil = [i for i in no_gasprod if i not in no_oilprod];print(no_gas_but_oil);len(no_gas_but_oil)"
   ]
  },
  {
   "cell_type": "markdown",
   "metadata": {},
   "source": [
    "### Places with only gas Production"
   ]
  },
  {
   "cell_type": "code",
   "execution_count": 19,
   "metadata": {},
   "outputs": [
    {
     "name": "stdout",
     "output_type": "stream",
     "text": [
      "['Afghanistan', 'Belgium', 'Finland', 'Ireland', 'Korea, Rep.', 'Luxembourg', 'Moldova', 'Mozambique', 'Rwanda', 'Switzerland', 'Tanzania']\n"
     ]
    },
    {
     "data": {
      "text/plain": [
       "11"
      ]
     },
     "execution_count": 19,
     "metadata": {},
     "output_type": "execute_result"
    }
   ],
   "source": [
    "no_oil_but_gas = [i for i in no_oilprod if i not in no_gasprod];print(no_oil_but_gas);len(no_oil_but_gas)"
   ]
  },
  {
   "cell_type": "markdown",
   "metadata": {},
   "source": [
    "### Gas Production over Decades"
   ]
  },
  {
   "cell_type": "code",
   "execution_count": 20,
   "metadata": {},
   "outputs": [],
   "source": [
    "gasProdyear=pd.DataFrame(gasproduction[['year','gas_prod55_14']].groupby('year').sum()).reset_index()"
   ]
  },
  {
   "cell_type": "code",
   "execution_count": 21,
   "metadata": {},
   "outputs": [
    {
     "data": {
      "text/html": [
       "<div>\n",
       "<style scoped>\n",
       "    .dataframe tbody tr th:only-of-type {\n",
       "        vertical-align: middle;\n",
       "    }\n",
       "\n",
       "    .dataframe tbody tr th {\n",
       "        vertical-align: top;\n",
       "    }\n",
       "\n",
       "    .dataframe thead th {\n",
       "        text-align: right;\n",
       "    }\n",
       "</style>\n",
       "<table border=\"1\" class=\"dataframe\">\n",
       "  <thead>\n",
       "    <tr style=\"text-align: right;\">\n",
       "      <th></th>\n",
       "      <th>year</th>\n",
       "      <th>gas_prod55_14</th>\n",
       "    </tr>\n",
       "  </thead>\n",
       "  <tbody>\n",
       "    <tr>\n",
       "      <th>79</th>\n",
       "      <td>2011</td>\n",
       "      <td>27352.200726</td>\n",
       "    </tr>\n",
       "    <tr>\n",
       "      <th>81</th>\n",
       "      <td>2013</td>\n",
       "      <td>26807.433347</td>\n",
       "    </tr>\n",
       "    <tr>\n",
       "      <th>78</th>\n",
       "      <td>2010</td>\n",
       "      <td>26624.278099</td>\n",
       "    </tr>\n",
       "    <tr>\n",
       "      <th>80</th>\n",
       "      <td>2012</td>\n",
       "      <td>26127.087616</td>\n",
       "    </tr>\n",
       "    <tr>\n",
       "      <th>76</th>\n",
       "      <td>2008</td>\n",
       "      <td>25879.080300</td>\n",
       "    </tr>\n",
       "    <tr>\n",
       "      <th>75</th>\n",
       "      <td>2007</td>\n",
       "      <td>24909.967798</td>\n",
       "    </tr>\n",
       "    <tr>\n",
       "      <th>77</th>\n",
       "      <td>2009</td>\n",
       "      <td>24736.674179</td>\n",
       "    </tr>\n",
       "    <tr>\n",
       "      <th>74</th>\n",
       "      <td>2006</td>\n",
       "      <td>24105.902227</td>\n",
       "    </tr>\n",
       "    <tr>\n",
       "      <th>73</th>\n",
       "      <td>2005</td>\n",
       "      <td>23481.238550</td>\n",
       "    </tr>\n",
       "    <tr>\n",
       "      <th>82</th>\n",
       "      <td>2014</td>\n",
       "      <td>23227.690200</td>\n",
       "    </tr>\n",
       "  </tbody>\n",
       "</table>\n",
       "</div>"
      ],
      "text/plain": [
       "    year  gas_prod55_14\n",
       "79  2011   27352.200726\n",
       "81  2013   26807.433347\n",
       "78  2010   26624.278099\n",
       "80  2012   26127.087616\n",
       "76  2008   25879.080300\n",
       "75  2007   24909.967798\n",
       "77  2009   24736.674179\n",
       "74  2006   24105.902227\n",
       "73  2005   23481.238550\n",
       "82  2014   23227.690200"
      ]
     },
     "execution_count": 21,
     "metadata": {},
     "output_type": "execute_result"
    }
   ],
   "source": [
    "gasProdyear.sort_values('gas_prod55_14',ascending=False).head(10)"
   ]
  },
  {
   "cell_type": "code",
   "execution_count": 22,
   "metadata": {},
   "outputs": [
    {
     "data": {
      "text/plain": [
       "<matplotlib.axes._subplots.AxesSubplot at 0x2bb5a6fc940>"
      ]
     },
     "execution_count": 22,
     "metadata": {},
     "output_type": "execute_result"
    },
    {
     "data": {
      "image/png": "[encoded data removed]",
      "text/plain": [
       "<Figure size 1080x288 with 1 Axes>"
      ]
     },
     "metadata": {
      "needs_background": "light"
     },
     "output_type": "display_data"
    }
   ],
   "source": [
    "fig = plt.figure(figsize=(15,4))\n",
    "ax = fig.add_subplot(1,1,1)\n",
    "gasProdyear[['year','gas_prod55_14']].plot(x= 'year',kind = 'line',ax=ax,linewidth=5)"
   ]
  },
  {
   "cell_type": "markdown",
   "metadata": {},
   "source": [
    "## Interactive Plot For Oil and Gas Production of City "
   ]
  },
  {
   "cell_type": "code",
   "execution_count": 23,
   "metadata": {},
   "outputs": [
    {
     "data": {
      "application/vnd.jupyter.widget-view+json": {
       "model_id": "9959c1ac5d334707b5704bc593e5e65a",
       "version_major": 2,
       "version_minor": 0
      },
      "text/plain": [
       "interactive(children=(Dropdown(description='city', options=('Afghanistan', 'Albania', 'Algeria', 'Angola', 'Ar…"
      ]
     },
     "metadata": {},
     "output_type": "display_data"
    },
    {
     "data": {
      "text/plain": [
       "<function __main__.oilgas(city, kind)>"
      ]
     },
     "execution_count": 23,
     "metadata": {},
     "output_type": "execute_result"
    }
   ],
   "source": [
    "def oilgas(city,kind):\n",
    "    fig = plt.figure(figsize=(15,4))\n",
    "    ax1 = fig.add_subplot(1,2,1)\n",
    "    ax2 = fig.add_subplot(1,2,2)\n",
    "    if (city not in no_oilprod):\n",
    "        df.loc[df['cty_name']==city][['year','oil_prod32_14']].plot(x= 'year',kind = kind,color = 'green',ax=ax1)\n",
    "        ax1.set_title(\"Oil_Prod32_14\")\n",
    "    else:\n",
    "        ax1.annotate(s = f\"No Oil Production \\n in {city}\",xy = (0.5,0.5),ha='center',va='center',size=30,color='Green')\n",
    "    if (city not in no_gasprod):\n",
    "        df.loc[df['cty_name']==city][['year','gas_prod55_14']].plot(x= 'year',kind = kind,color='orange',ax=ax2)\n",
    "        ax2.set_title(\"gas_prod55_14\")\n",
    "    else:\n",
    "        ax2.annotate(s = f\"No Gas Production \\n in {city}\",xy = (0.5,0.5),ha='center',va='center',size=30,color='orange')\n",
    "    \n",
    "interact(oilgas,city=[i for i in sorted(list(set(df.cty_name))) if i not in no_gas_oil_prod],kind=['line','hist','bar','box'])"
   ]
  },
  {
   "cell_type": "markdown",
   "metadata": {},
   "source": [
    "# Export Part Only"
   ]
  },
  {
   "cell_type": "markdown",
   "metadata": {},
   "source": [
    "## Selecting the Oil Export Part Only"
   ]
  },
  {
   "cell_type": "code",
   "execution_count": 24,
   "metadata": {},
   "outputs": [
    {
     "data": {
      "text/html": [
       "<div>\n",
       "<style scoped>\n",
       "    .dataframe tbody tr th:only-of-type {\n",
       "        vertical-align: middle;\n",
       "    }\n",
       "\n",
       "    .dataframe tbody tr th {\n",
       "        vertical-align: top;\n",
       "    }\n",
       "\n",
       "    .dataframe thead th {\n",
       "        text-align: right;\n",
       "    }\n",
       "</style>\n",
       "<table border=\"1\" class=\"dataframe\">\n",
       "  <thead>\n",
       "    <tr style=\"text-align: right;\">\n",
       "      <th></th>\n",
       "      <th>cty_name</th>\n",
       "      <th>iso3numeric</th>\n",
       "      <th>id</th>\n",
       "      <th>year</th>\n",
       "      <th>eiacty</th>\n",
       "      <th>oil_exports</th>\n",
       "      <th>net_oil_exports</th>\n",
       "      <th>net_oil_exports_mt</th>\n",
       "      <th>net_oil_exports_value</th>\n",
       "      <th>net_oil_exports_valuePOP</th>\n",
       "    </tr>\n",
       "  </thead>\n",
       "  <tbody>\n",
       "    <tr>\n",
       "      <th>0</th>\n",
       "      <td>Afghanistan</td>\n",
       "      <td>4</td>\n",
       "      <td>AFG</td>\n",
       "      <td>1932</td>\n",
       "      <td>Afghanistan</td>\n",
       "      <td>NaN</td>\n",
       "      <td>NaN</td>\n",
       "      <td>NaN</td>\n",
       "      <td>NaN</td>\n",
       "      <td>NaN</td>\n",
       "    </tr>\n",
       "    <tr>\n",
       "      <th>1</th>\n",
       "      <td>Afghanistan</td>\n",
       "      <td>4</td>\n",
       "      <td>AFG</td>\n",
       "      <td>1933</td>\n",
       "      <td>Afghanistan</td>\n",
       "      <td>NaN</td>\n",
       "      <td>NaN</td>\n",
       "      <td>NaN</td>\n",
       "      <td>NaN</td>\n",
       "      <td>NaN</td>\n",
       "    </tr>\n",
       "    <tr>\n",
       "      <th>2</th>\n",
       "      <td>Afghanistan</td>\n",
       "      <td>4</td>\n",
       "      <td>AFG</td>\n",
       "      <td>1934</td>\n",
       "      <td>Afghanistan</td>\n",
       "      <td>NaN</td>\n",
       "      <td>NaN</td>\n",
       "      <td>NaN</td>\n",
       "      <td>NaN</td>\n",
       "      <td>NaN</td>\n",
       "    </tr>\n",
       "    <tr>\n",
       "      <th>3</th>\n",
       "      <td>Afghanistan</td>\n",
       "      <td>4</td>\n",
       "      <td>AFG</td>\n",
       "      <td>1935</td>\n",
       "      <td>Afghanistan</td>\n",
       "      <td>NaN</td>\n",
       "      <td>NaN</td>\n",
       "      <td>NaN</td>\n",
       "      <td>NaN</td>\n",
       "      <td>NaN</td>\n",
       "    </tr>\n",
       "    <tr>\n",
       "      <th>4</th>\n",
       "      <td>Afghanistan</td>\n",
       "      <td>4</td>\n",
       "      <td>AFG</td>\n",
       "      <td>1936</td>\n",
       "      <td>Afghanistan</td>\n",
       "      <td>NaN</td>\n",
       "      <td>NaN</td>\n",
       "      <td>NaN</td>\n",
       "      <td>NaN</td>\n",
       "      <td>NaN</td>\n",
       "    </tr>\n",
       "    <tr>\n",
       "      <th>...</th>\n",
       "      <td>...</td>\n",
       "      <td>...</td>\n",
       "      <td>...</td>\n",
       "      <td>...</td>\n",
       "      <td>...</td>\n",
       "      <td>...</td>\n",
       "      <td>...</td>\n",
       "      <td>...</td>\n",
       "      <td>...</td>\n",
       "      <td>...</td>\n",
       "    </tr>\n",
       "    <tr>\n",
       "      <th>15516</th>\n",
       "      <td>Zimbabwe</td>\n",
       "      <td>716</td>\n",
       "      <td>ZWE</td>\n",
       "      <td>2010</td>\n",
       "      <td>Zimbabwe</td>\n",
       "      <td>0.0</td>\n",
       "      <td>0.0</td>\n",
       "      <td>0.0</td>\n",
       "      <td>0.0</td>\n",
       "      <td>0.0</td>\n",
       "    </tr>\n",
       "    <tr>\n",
       "      <th>15517</th>\n",
       "      <td>Zimbabwe</td>\n",
       "      <td>716</td>\n",
       "      <td>ZWE</td>\n",
       "      <td>2011</td>\n",
       "      <td>Zimbabwe</td>\n",
       "      <td>0.0</td>\n",
       "      <td>0.0</td>\n",
       "      <td>0.0</td>\n",
       "      <td>0.0</td>\n",
       "      <td>0.0</td>\n",
       "    </tr>\n",
       "    <tr>\n",
       "      <th>15518</th>\n",
       "      <td>Zimbabwe</td>\n",
       "      <td>716</td>\n",
       "      <td>ZWE</td>\n",
       "      <td>2012</td>\n",
       "      <td>Zimbabwe</td>\n",
       "      <td>0.0</td>\n",
       "      <td>0.0</td>\n",
       "      <td>0.0</td>\n",
       "      <td>0.0</td>\n",
       "      <td>0.0</td>\n",
       "    </tr>\n",
       "    <tr>\n",
       "      <th>15519</th>\n",
       "      <td>Zimbabwe</td>\n",
       "      <td>716</td>\n",
       "      <td>ZWE</td>\n",
       "      <td>2013</td>\n",
       "      <td>Zimbabwe</td>\n",
       "      <td>NaN</td>\n",
       "      <td>NaN</td>\n",
       "      <td>NaN</td>\n",
       "      <td>NaN</td>\n",
       "      <td>NaN</td>\n",
       "    </tr>\n",
       "    <tr>\n",
       "      <th>15520</th>\n",
       "      <td>Zimbabwe</td>\n",
       "      <td>716</td>\n",
       "      <td>ZWE</td>\n",
       "      <td>2014</td>\n",
       "      <td>Zimbabwe</td>\n",
       "      <td>NaN</td>\n",
       "      <td>NaN</td>\n",
       "      <td>NaN</td>\n",
       "      <td>NaN</td>\n",
       "      <td>NaN</td>\n",
       "    </tr>\n",
       "  </tbody>\n",
       "</table>\n",
       "<p>15521 rows × 10 columns</p>\n",
       "</div>"
      ],
      "text/plain": [
       "          cty_name  iso3numeric   id  year       eiacty  oil_exports  \\\n",
       "0      Afghanistan            4  AFG  1932  Afghanistan          NaN   \n",
       "1      Afghanistan            4  AFG  1933  Afghanistan          NaN   \n",
       "2      Afghanistan            4  AFG  1934  Afghanistan          NaN   \n",
       "3      Afghanistan            4  AFG  1935  Afghanistan          NaN   \n",
       "4      Afghanistan            4  AFG  1936  Afghanistan          NaN   \n",
       "...            ...          ...  ...   ...          ...          ...   \n",
       "15516     Zimbabwe          716  ZWE  2010     Zimbabwe          0.0   \n",
       "15517     Zimbabwe          716  ZWE  2011     Zimbabwe          0.0   \n",
       "15518     Zimbabwe          716  ZWE  2012     Zimbabwe          0.0   \n",
       "15519     Zimbabwe          716  ZWE  2013     Zimbabwe          NaN   \n",
       "15520     Zimbabwe          716  ZWE  2014     Zimbabwe          NaN   \n",
       "\n",
       "       net_oil_exports  net_oil_exports_mt  net_oil_exports_value  \\\n",
       "0                  NaN                 NaN                    NaN   \n",
       "1                  NaN                 NaN                    NaN   \n",
       "2                  NaN                 NaN                    NaN   \n",
       "3                  NaN                 NaN                    NaN   \n",
       "4                  NaN                 NaN                    NaN   \n",
       "...                ...                 ...                    ...   \n",
       "15516              0.0                 0.0                    0.0   \n",
       "15517              0.0                 0.0                    0.0   \n",
       "15518              0.0                 0.0                    0.0   \n",
       "15519              NaN                 NaN                    NaN   \n",
       "15520              NaN                 NaN                    NaN   \n",
       "\n",
       "       net_oil_exports_valuePOP  \n",
       "0                           NaN  \n",
       "1                           NaN  \n",
       "2                           NaN  \n",
       "3                           NaN  \n",
       "4                           NaN  \n",
       "...                         ...  \n",
       "15516                       0.0  \n",
       "15517                       0.0  \n",
       "15518                       0.0  \n",
       "15519                       NaN  \n",
       "15520                       NaN  \n",
       "\n",
       "[15521 rows x 10 columns]"
      ]
     },
     "execution_count": 24,
     "metadata": {},
     "output_type": "execute_result"
    }
   ],
   "source": [
    "req = ['cty_name','iso3numeric','id','year','eiacty']\n",
    "req.extend([i for i in df.columns if 'oil' in i and 'export' in i and 'gas' not in i])\n",
    "oilExport = df[req]\n",
    "oilExport"
   ]
  },
  {
   "cell_type": "code",
   "execution_count": 25,
   "metadata": {},
   "outputs": [
    {
     "data": {
      "text/html": [
       "<div>\n",
       "<style scoped>\n",
       "    .dataframe tbody tr th:only-of-type {\n",
       "        vertical-align: middle;\n",
       "    }\n",
       "\n",
       "    .dataframe tbody tr th {\n",
       "        vertical-align: top;\n",
       "    }\n",
       "\n",
       "    .dataframe thead th {\n",
       "        text-align: right;\n",
       "    }\n",
       "</style>\n",
       "<table border=\"1\" class=\"dataframe\">\n",
       "  <thead>\n",
       "    <tr style=\"text-align: right;\">\n",
       "      <th></th>\n",
       "      <th>cty_name</th>\n",
       "      <th>oil_exports</th>\n",
       "    </tr>\n",
       "  </thead>\n",
       "  <tbody>\n",
       "    <tr>\n",
       "      <th>0</th>\n",
       "      <td>Afghanistan</td>\n",
       "      <td>0.00000</td>\n",
       "    </tr>\n",
       "    <tr>\n",
       "      <th>1</th>\n",
       "      <td>Albania</td>\n",
       "      <td>28.55423</td>\n",
       "    </tr>\n",
       "    <tr>\n",
       "      <th>2</th>\n",
       "      <td>Algeria</td>\n",
       "      <td>22011.99831</td>\n",
       "    </tr>\n",
       "    <tr>\n",
       "      <th>3</th>\n",
       "      <td>Angola</td>\n",
       "      <td>24957.84828</td>\n",
       "    </tr>\n",
       "    <tr>\n",
       "      <th>4</th>\n",
       "      <td>Argentina</td>\n",
       "      <td>3828.46748</td>\n",
       "    </tr>\n",
       "    <tr>\n",
       "      <th>...</th>\n",
       "      <td>...</td>\n",
       "      <td>...</td>\n",
       "    </tr>\n",
       "    <tr>\n",
       "      <th>182</th>\n",
       "      <td>Yemen, Dem. Rep. (South Yemen)</td>\n",
       "      <td>0.00000</td>\n",
       "    </tr>\n",
       "    <tr>\n",
       "      <th>183</th>\n",
       "      <td>Yemen, Rep.</td>\n",
       "      <td>5953.48050</td>\n",
       "    </tr>\n",
       "    <tr>\n",
       "      <th>184</th>\n",
       "      <td>Yugoslavia, Fed. Rep.</td>\n",
       "      <td>0.00000</td>\n",
       "    </tr>\n",
       "    <tr>\n",
       "      <th>185</th>\n",
       "      <td>Zambia</td>\n",
       "      <td>0.00000</td>\n",
       "    </tr>\n",
       "    <tr>\n",
       "      <th>186</th>\n",
       "      <td>Zimbabwe</td>\n",
       "      <td>0.00000</td>\n",
       "    </tr>\n",
       "  </tbody>\n",
       "</table>\n",
       "<p>187 rows × 2 columns</p>\n",
       "</div>"
      ],
      "text/plain": [
       "                           cty_name  oil_exports\n",
       "0                       Afghanistan      0.00000\n",
       "1                           Albania     28.55423\n",
       "2                           Algeria  22011.99831\n",
       "3                            Angola  24957.84828\n",
       "4                         Argentina   3828.46748\n",
       "..                              ...          ...\n",
       "182  Yemen, Dem. Rep. (South Yemen)      0.00000\n",
       "183                     Yemen, Rep.   5953.48050\n",
       "184           Yugoslavia, Fed. Rep.      0.00000\n",
       "185                          Zambia      0.00000\n",
       "186                        Zimbabwe      0.00000\n",
       "\n",
       "[187 rows x 2 columns]"
      ]
     },
     "execution_count": 25,
     "metadata": {},
     "output_type": "execute_result"
    }
   ],
   "source": [
    "oilExportcty = pd.DataFrame(oilExport[['cty_name','oil_exports']].groupby('cty_name').sum()).reset_index()\n",
    "oilExportcty"
   ]
  },
  {
   "cell_type": "markdown",
   "metadata": {},
   "source": [
    "### City with No Oil Export "
   ]
  },
  {
   "cell_type": "code",
   "execution_count": 26,
   "metadata": {},
   "outputs": [
    {
     "name": "stdout",
     "output_type": "stream",
     "text": [
      "['Guinea-Bissau', 'Lao PDR', 'Montenegro', 'Togo', 'Burkina Faso', 'Dominican Republic', 'Bahamas, The', 'Burundi', 'Nicaragua', 'Afghanistan', 'Fiji', 'Zambia', 'German Democratic Republic (East Germany)', 'Uganda', 'Nepal', 'Federal Republic of Germany (West Germany)', 'Guinea', 'Sierra Leone', 'Yemen, Dem. Rep. (South Yemen)', 'Zimbabwe', 'Bhutan', 'South Vietnam', 'Eritrea', 'Serbia', 'Iceland', 'Bulgaria', 'Guyana', 'Jordan', 'Switzerland', 'Swaziland', 'Yugoslavia, Fed. Rep.', 'Taiwan', 'Luxembourg', 'Costa Rica', 'Mozambique', 'Cyprus', 'Uruguay', 'Lebanon', 'Gambia, The', 'Somalia', 'Yemen Arab Rep. (North Yemen)', 'Serbia and Montenegro', 'Malta', 'Kenya', 'Haiti', 'France including Algeria', 'Bosnia and Herzegovina', 'Malawi', 'North Vietnam', 'Paraguay', 'Botswana', 'Slovenia', 'Pakistan including East Pakistan', 'Armenia', 'Honduras', 'Lesotho', 'Madagascar', 'Namibia', 'Cambodia', 'Liberia', 'Cape Verde', 'Sri Lanka', 'Moldova', 'Soviet Union', 'Macedonia, FYR', 'Korea, Dem. Rep.', 'Japan', 'Sudan', 'Mali', 'Maldives', 'Senegal', 'Djibouti', 'Ethiopia including Eritrea', 'South Sudan', 'El Salvador', 'Czechoslovakia', 'Solomon Islands', 'Central African Republic', 'Chile', 'Comoros', 'Morocco', 'Tanzania', 'Ethiopia', 'Mauritius', 'Rwanda']\n"
     ]
    },
    {
     "data": {
      "text/plain": [
       "85"
      ]
     },
     "execution_count": 26,
     "metadata": {},
     "output_type": "execute_result"
    }
   ],
   "source": [
    "no_oil_export = [i for i in set(oilExportcty.loc[oilExportcty.oil_exports == 0]['cty_name'])];print(no_oil_export);len(no_oil_export)"
   ]
  },
  {
   "cell_type": "markdown",
   "metadata": {},
   "source": [
    "### Top 10 places With highest Oil Export"
   ]
  },
  {
   "cell_type": "code",
   "execution_count": 27,
   "metadata": {},
   "outputs": [
    {
     "name": "stdout",
     "output_type": "stream",
     "text": [
      "                 cty_name   oil_exports\n",
      "140          Saudi Arabia  164744.58064\n",
      "138    Russian Federation   80960.52485\n",
      "79     Iran, Islamic Rep.   62878.73387\n",
      "125                Norway   59893.94013\n",
      "174  United Arab Emirates   53310.14993\n",
      "123               Nigeria   50244.10736\n",
      "110                Mexico   46192.51427\n",
      "179         Venezuela, RB   44790.80734\n",
      "28                 Canada   43018.57472\n",
      "175        United Kingdom   41024.95287\n"
     ]
    },
    {
     "data": {
      "text/plain": [
       "<matplotlib.axes._subplots.AxesSubplot at 0x2bb5a73bc88>"
      ]
     },
     "execution_count": 27,
     "metadata": {},
     "output_type": "execute_result"
    },
    {
     "data": {
      "image/png": "[encoded data removed]",
      "text/plain": [
       "<Figure size 1080x432 with 1 Axes>"
      ]
     },
     "metadata": {
      "needs_background": "light"
     },
     "output_type": "display_data"
    }
   ],
   "source": [
    "print(oilExportcty.sort_values('oil_exports',ascending=False).head(10))\n",
    "fig = plt.figure(figsize=(15,6))\n",
    "ax = fig.add_subplot(1,1,1)\n",
    "oilExportcty.sort_values('oil_exports',ascending=False).head(10).plot(x ='cty_name' ,y='oil_exports',kind = 'bar',color='green',ax=ax)                                                          "
   ]
  },
  {
   "cell_type": "markdown",
   "metadata": {},
   "source": [
    "## Selecting the Gas Export Part "
   ]
  },
  {
   "cell_type": "code",
   "execution_count": 28,
   "metadata": {},
   "outputs": [
    {
     "data": {
      "text/html": [
       "<div>\n",
       "<style scoped>\n",
       "    .dataframe tbody tr th:only-of-type {\n",
       "        vertical-align: middle;\n",
       "    }\n",
       "\n",
       "    .dataframe tbody tr th {\n",
       "        vertical-align: top;\n",
       "    }\n",
       "\n",
       "    .dataframe thead th {\n",
       "        text-align: right;\n",
       "    }\n",
       "</style>\n",
       "<table border=\"1\" class=\"dataframe\">\n",
       "  <thead>\n",
       "    <tr style=\"text-align: right;\">\n",
       "      <th></th>\n",
       "      <th>cty_name</th>\n",
       "      <th>iso3numeric</th>\n",
       "      <th>id</th>\n",
       "      <th>year</th>\n",
       "      <th>eiacty</th>\n",
       "      <th>gas_exports</th>\n",
       "      <th>net_gas_exports_bcf</th>\n",
       "      <th>net_gas_exports_mboe</th>\n",
       "      <th>net_gas_exports_value</th>\n",
       "      <th>net_gas_exports_valuePOP</th>\n",
       "    </tr>\n",
       "  </thead>\n",
       "  <tbody>\n",
       "    <tr>\n",
       "      <th>0</th>\n",
       "      <td>Afghanistan</td>\n",
       "      <td>4</td>\n",
       "      <td>AFG</td>\n",
       "      <td>1932</td>\n",
       "      <td>Afghanistan</td>\n",
       "      <td>NaN</td>\n",
       "      <td>NaN</td>\n",
       "      <td>NaN</td>\n",
       "      <td>NaN</td>\n",
       "      <td>NaN</td>\n",
       "    </tr>\n",
       "    <tr>\n",
       "      <th>1</th>\n",
       "      <td>Afghanistan</td>\n",
       "      <td>4</td>\n",
       "      <td>AFG</td>\n",
       "      <td>1933</td>\n",
       "      <td>Afghanistan</td>\n",
       "      <td>NaN</td>\n",
       "      <td>NaN</td>\n",
       "      <td>NaN</td>\n",
       "      <td>NaN</td>\n",
       "      <td>NaN</td>\n",
       "    </tr>\n",
       "    <tr>\n",
       "      <th>2</th>\n",
       "      <td>Afghanistan</td>\n",
       "      <td>4</td>\n",
       "      <td>AFG</td>\n",
       "      <td>1934</td>\n",
       "      <td>Afghanistan</td>\n",
       "      <td>NaN</td>\n",
       "      <td>NaN</td>\n",
       "      <td>NaN</td>\n",
       "      <td>NaN</td>\n",
       "      <td>NaN</td>\n",
       "    </tr>\n",
       "    <tr>\n",
       "      <th>3</th>\n",
       "      <td>Afghanistan</td>\n",
       "      <td>4</td>\n",
       "      <td>AFG</td>\n",
       "      <td>1935</td>\n",
       "      <td>Afghanistan</td>\n",
       "      <td>NaN</td>\n",
       "      <td>NaN</td>\n",
       "      <td>NaN</td>\n",
       "      <td>NaN</td>\n",
       "      <td>NaN</td>\n",
       "    </tr>\n",
       "    <tr>\n",
       "      <th>4</th>\n",
       "      <td>Afghanistan</td>\n",
       "      <td>4</td>\n",
       "      <td>AFG</td>\n",
       "      <td>1936</td>\n",
       "      <td>Afghanistan</td>\n",
       "      <td>NaN</td>\n",
       "      <td>NaN</td>\n",
       "      <td>NaN</td>\n",
       "      <td>NaN</td>\n",
       "      <td>NaN</td>\n",
       "    </tr>\n",
       "    <tr>\n",
       "      <th>...</th>\n",
       "      <td>...</td>\n",
       "      <td>...</td>\n",
       "      <td>...</td>\n",
       "      <td>...</td>\n",
       "      <td>...</td>\n",
       "      <td>...</td>\n",
       "      <td>...</td>\n",
       "      <td>...</td>\n",
       "      <td>...</td>\n",
       "      <td>...</td>\n",
       "    </tr>\n",
       "    <tr>\n",
       "      <th>15516</th>\n",
       "      <td>Zimbabwe</td>\n",
       "      <td>716</td>\n",
       "      <td>ZWE</td>\n",
       "      <td>2010</td>\n",
       "      <td>Zimbabwe</td>\n",
       "      <td>0.0</td>\n",
       "      <td>0.0</td>\n",
       "      <td>0.0</td>\n",
       "      <td>0.0</td>\n",
       "      <td>0.0</td>\n",
       "    </tr>\n",
       "    <tr>\n",
       "      <th>15517</th>\n",
       "      <td>Zimbabwe</td>\n",
       "      <td>716</td>\n",
       "      <td>ZWE</td>\n",
       "      <td>2011</td>\n",
       "      <td>Zimbabwe</td>\n",
       "      <td>0.0</td>\n",
       "      <td>0.0</td>\n",
       "      <td>0.0</td>\n",
       "      <td>0.0</td>\n",
       "      <td>0.0</td>\n",
       "    </tr>\n",
       "    <tr>\n",
       "      <th>15518</th>\n",
       "      <td>Zimbabwe</td>\n",
       "      <td>716</td>\n",
       "      <td>ZWE</td>\n",
       "      <td>2012</td>\n",
       "      <td>Zimbabwe</td>\n",
       "      <td>0.0</td>\n",
       "      <td>0.0</td>\n",
       "      <td>0.0</td>\n",
       "      <td>0.0</td>\n",
       "      <td>0.0</td>\n",
       "    </tr>\n",
       "    <tr>\n",
       "      <th>15519</th>\n",
       "      <td>Zimbabwe</td>\n",
       "      <td>716</td>\n",
       "      <td>ZWE</td>\n",
       "      <td>2013</td>\n",
       "      <td>Zimbabwe</td>\n",
       "      <td>0.0</td>\n",
       "      <td>0.0</td>\n",
       "      <td>0.0</td>\n",
       "      <td>NaN</td>\n",
       "      <td>NaN</td>\n",
       "    </tr>\n",
       "    <tr>\n",
       "      <th>15520</th>\n",
       "      <td>Zimbabwe</td>\n",
       "      <td>716</td>\n",
       "      <td>ZWE</td>\n",
       "      <td>2014</td>\n",
       "      <td>Zimbabwe</td>\n",
       "      <td>NaN</td>\n",
       "      <td>NaN</td>\n",
       "      <td>NaN</td>\n",
       "      <td>NaN</td>\n",
       "      <td>NaN</td>\n",
       "    </tr>\n",
       "  </tbody>\n",
       "</table>\n",
       "<p>15521 rows × 10 columns</p>\n",
       "</div>"
      ],
      "text/plain": [
       "          cty_name  iso3numeric   id  year       eiacty  gas_exports  \\\n",
       "0      Afghanistan            4  AFG  1932  Afghanistan          NaN   \n",
       "1      Afghanistan            4  AFG  1933  Afghanistan          NaN   \n",
       "2      Afghanistan            4  AFG  1934  Afghanistan          NaN   \n",
       "3      Afghanistan            4  AFG  1935  Afghanistan          NaN   \n",
       "4      Afghanistan            4  AFG  1936  Afghanistan          NaN   \n",
       "...            ...          ...  ...   ...          ...          ...   \n",
       "15516     Zimbabwe          716  ZWE  2010     Zimbabwe          0.0   \n",
       "15517     Zimbabwe          716  ZWE  2011     Zimbabwe          0.0   \n",
       "15518     Zimbabwe          716  ZWE  2012     Zimbabwe          0.0   \n",
       "15519     Zimbabwe          716  ZWE  2013     Zimbabwe          0.0   \n",
       "15520     Zimbabwe          716  ZWE  2014     Zimbabwe          NaN   \n",
       "\n",
       "       net_gas_exports_bcf  net_gas_exports_mboe  net_gas_exports_value  \\\n",
       "0                      NaN                   NaN                    NaN   \n",
       "1                      NaN                   NaN                    NaN   \n",
       "2                      NaN                   NaN                    NaN   \n",
       "3                      NaN                   NaN                    NaN   \n",
       "4                      NaN                   NaN                    NaN   \n",
       "...                    ...                   ...                    ...   \n",
       "15516                  0.0                   0.0                    0.0   \n",
       "15517                  0.0                   0.0                    0.0   \n",
       "15518                  0.0                   0.0                    0.0   \n",
       "15519                  0.0                   0.0                    NaN   \n",
       "15520                  NaN                   NaN                    NaN   \n",
       "\n",
       "       net_gas_exports_valuePOP  \n",
       "0                           NaN  \n",
       "1                           NaN  \n",
       "2                           NaN  \n",
       "3                           NaN  \n",
       "4                           NaN  \n",
       "...                         ...  \n",
       "15516                       0.0  \n",
       "15517                       0.0  \n",
       "15518                       0.0  \n",
       "15519                       NaN  \n",
       "15520                       NaN  \n",
       "\n",
       "[15521 rows x 10 columns]"
      ]
     },
     "execution_count": 28,
     "metadata": {},
     "output_type": "execute_result"
    }
   ],
   "source": [
    "req = ['cty_name','iso3numeric','id','year','eiacty']\n",
    "req.extend([i for i in df.columns if 'gas' in i and 'export' in i and 'oil' not in i])\n",
    "gasExport = df[req]\n",
    "gasExport"
   ]
  },
  {
   "cell_type": "code",
   "execution_count": 29,
   "metadata": {},
   "outputs": [
    {
     "data": {
      "text/html": [
       "<div>\n",
       "<style scoped>\n",
       "    .dataframe tbody tr th:only-of-type {\n",
       "        vertical-align: middle;\n",
       "    }\n",
       "\n",
       "    .dataframe tbody tr th {\n",
       "        vertical-align: top;\n",
       "    }\n",
       "\n",
       "    .dataframe thead th {\n",
       "        text-align: right;\n",
       "    }\n",
       "</style>\n",
       "<table border=\"1\" class=\"dataframe\">\n",
       "  <thead>\n",
       "    <tr style=\"text-align: right;\">\n",
       "      <th></th>\n",
       "      <th>cty_name</th>\n",
       "      <th>gas_exports</th>\n",
       "    </tr>\n",
       "  </thead>\n",
       "  <tbody>\n",
       "    <tr>\n",
       "      <th>0</th>\n",
       "      <td>Afghanistan</td>\n",
       "      <td>0.00000</td>\n",
       "    </tr>\n",
       "    <tr>\n",
       "      <th>1</th>\n",
       "      <td>Albania</td>\n",
       "      <td>0.00000</td>\n",
       "    </tr>\n",
       "    <tr>\n",
       "      <th>2</th>\n",
       "      <td>Algeria</td>\n",
       "      <td>42425.58515</td>\n",
       "    </tr>\n",
       "    <tr>\n",
       "      <th>3</th>\n",
       "      <td>Angola</td>\n",
       "      <td>0.00000</td>\n",
       "    </tr>\n",
       "    <tr>\n",
       "      <th>4</th>\n",
       "      <td>Argentina</td>\n",
       "      <td>1900.65330</td>\n",
       "    </tr>\n",
       "    <tr>\n",
       "      <th>...</th>\n",
       "      <td>...</td>\n",
       "      <td>...</td>\n",
       "    </tr>\n",
       "    <tr>\n",
       "      <th>182</th>\n",
       "      <td>Yemen, Dem. Rep. (South Yemen)</td>\n",
       "      <td>0.00000</td>\n",
       "    </tr>\n",
       "    <tr>\n",
       "      <th>183</th>\n",
       "      <td>Yemen, Rep.</td>\n",
       "      <td>1090.88035</td>\n",
       "    </tr>\n",
       "    <tr>\n",
       "      <th>184</th>\n",
       "      <td>Yugoslavia, Fed. Rep.</td>\n",
       "      <td>0.00000</td>\n",
       "    </tr>\n",
       "    <tr>\n",
       "      <th>185</th>\n",
       "      <td>Zambia</td>\n",
       "      <td>0.00000</td>\n",
       "    </tr>\n",
       "    <tr>\n",
       "      <th>186</th>\n",
       "      <td>Zimbabwe</td>\n",
       "      <td>0.00000</td>\n",
       "    </tr>\n",
       "  </tbody>\n",
       "</table>\n",
       "<p>187 rows × 2 columns</p>\n",
       "</div>"
      ],
      "text/plain": [
       "                           cty_name  gas_exports\n",
       "0                       Afghanistan      0.00000\n",
       "1                           Albania      0.00000\n",
       "2                           Algeria  42425.58515\n",
       "3                            Angola      0.00000\n",
       "4                         Argentina   1900.65330\n",
       "..                              ...          ...\n",
       "182  Yemen, Dem. Rep. (South Yemen)      0.00000\n",
       "183                     Yemen, Rep.   1090.88035\n",
       "184           Yugoslavia, Fed. Rep.      0.00000\n",
       "185                          Zambia      0.00000\n",
       "186                        Zimbabwe      0.00000\n",
       "\n",
       "[187 rows x 2 columns]"
      ]
     },
     "execution_count": 29,
     "metadata": {},
     "output_type": "execute_result"
    }
   ],
   "source": [
    "gasExportcty = pd.DataFrame(gasExport[['cty_name','gas_exports']].groupby('cty_name').sum()).reset_index()\n",
    "gasExportcty"
   ]
  },
  {
   "cell_type": "markdown",
   "metadata": {},
   "source": [
    "### Places with no gas export"
   ]
  },
  {
   "cell_type": "code",
   "execution_count": 30,
   "metadata": {},
   "outputs": [
    {
     "name": "stdout",
     "output_type": "stream",
     "text": [
      "['Guinea-Bissau', 'Lao PDR', 'East Timor', 'Montenegro', 'Belarus', 'Saudi Arabia', 'Togo', 'South Africa', 'Romania', 'Angola', 'Cuba', 'Burkina Faso', 'Pakistan', 'Niger', 'Dominican Republic', 'Bahamas, The', 'Kyrgyz Republic', 'Burundi', 'Nicaragua', 'Thailand', 'Afghanistan', 'Fiji', 'Zambia', 'Guatemala', 'Greece', 'German Democratic Republic (East Germany)', 'Uganda', 'Belize', 'Nepal', 'Mongolia', 'Federal Republic of Germany (West Germany)', 'Guinea', 'Sierra Leone', 'Yemen, Dem. Rep. (South Yemen)', 'Zimbabwe', 'Gabon', 'Bhutan', 'South Vietnam', 'Eritrea', 'Portugal', 'Estonia', 'Serbia', 'Iceland', 'Bulgaria', 'Kuwait', 'Guyana', 'Korea, Rep.', 'Israel', 'Jordan', 'Albania', 'Congo, Rep.', 'Switzerland', 'Philippines', 'Syrian Arab Republic', 'Swaziland', 'Suriname', 'Barbados', 'Yugoslavia, Fed. Rep.', 'India', 'Jamaica', 'Luxembourg', 'Costa Rica', 'Papua New Guinea', 'Cyprus', 'Uruguay', 'Lebanon', 'Gambia, The', 'Tajikistan', 'Benin', 'Somalia', 'Yemen Arab Rep. (North Yemen)', 'Serbia and Montenegro', 'Malta', 'Kenya', 'Haiti', 'France including Algeria', 'Bosnia and Herzegovina', 'Mauritania', 'Malawi', 'Finland', 'North Vietnam', 'Paraguay', 'Botswana', 'Venezuela, RB', 'Slovenia', 'Sweden', 'Latvia', 'Cameroon', 'Lithuania', 'Pakistan including East Pakistan', 'New Zealand', 'Armenia', 'Honduras', 'Bahrain', 'Vietnam', 'Ecuador', 'Lesotho', 'Madagascar', 'Namibia', 'Bangladesh', 'Cambodia', 'Chad', 'Liberia', 'Cape Verde', 'Singapore', 'Moldova', 'Ghana', 'Sri Lanka', 'Soviet Union', 'Macedonia, FYR', 'Korea, Dem. Rep.', 'Japan', 'Congo, Dem. Rep.', 'Sudan', 'Mali', 'Maldives', 'Senegal', 'Djibouti', 'Ethiopia including Eritrea', 'South Sudan', \"Cote d'Ivoire\", 'El Salvador', 'Czechoslovakia', 'Solomon Islands', 'Ireland', 'Central African Republic', 'Chile', 'Sudan including South Sudan', 'Comoros', 'Morocco', 'Tanzania', 'Panama', 'Ethiopia', 'Mauritius', 'Rwanda']\n"
     ]
    },
    {
     "data": {
      "text/plain": [
       "135"
      ]
     },
     "execution_count": 30,
     "metadata": {},
     "output_type": "execute_result"
    }
   ],
   "source": [
    "no_gas_export = [i for i in set(gasExportcty.loc[gasExportcty.gas_exports == 0]['cty_name'])];print(no_gas_export);len(no_gas_export)"
   ]
  },
  {
   "cell_type": "markdown",
   "metadata": {},
   "source": [
    "## Interactive plot for oil and gas exports with respective  decades"
   ]
  },
  {
   "cell_type": "code",
   "execution_count": 31,
   "metadata": {},
   "outputs": [
    {
     "data": {
      "application/vnd.jupyter.widget-view+json": {
       "model_id": "4fadd62b41a04cb086776f56d9c0ab9f",
       "version_major": 2,
       "version_minor": 0
      },
      "text/plain": [
       "interactive(children=(Dropdown(description='column', options=('oil_exports', 'net_oil_exports', 'net_oil_expor…"
      ]
     },
     "metadata": {},
     "output_type": "display_data"
    },
    {
     "data": {
      "text/plain": [
       "<function __main__.Oil__Export(column)>"
      ]
     },
     "execution_count": 31,
     "metadata": {},
     "output_type": "execute_result"
    }
   ],
   "source": [
    "def Oil__Export(column):\n",
    "    oilExportyear=pd.DataFrame(df.loc[df['year'] > 1985][['year',column]].groupby('year').sum()).reset_index()\n",
    "    print(oilExportyear.sort_values(column,ascending=False).head(10))\n",
    "    fig = plt.figure(figsize=(15,4))\n",
    "    ax = fig.add_subplot(1,1,1)\n",
    "    oilExportyear[['year',column]].plot(x= 'year',kind = 'line',ax=ax,linewidth=5)\n",
    "interact(Oil__Export,column=[i for i in df.columns if 'export' in i ])"
   ]
  },
  {
   "cell_type": "markdown",
   "metadata": {},
   "source": [
    "## Interactive plot for oil and gas exports with respective  decades and places"
   ]
  },
  {
   "cell_type": "code",
   "execution_count": 32,
   "metadata": {},
   "outputs": [
    {
     "data": {
      "application/vnd.jupyter.widget-view+json": {
       "model_id": "ed203070b7674a33891ea43822c4ea4a",
       "version_major": 2,
       "version_minor": 0
      },
      "text/plain": [
       "interactive(children=(Dropdown(description='city', options=('Colombia', 'Guinea-Bissau', 'Poland', 'Lao PDR', …"
      ]
     },
     "metadata": {},
     "output_type": "display_data"
    },
    {
     "data": {
      "text/plain": [
       "<function __main__.oilgas(city, kind, col)>"
      ]
     },
     "execution_count": 32,
     "metadata": {},
     "output_type": "execute_result"
    }
   ],
   "source": [
    "def oilgas(city,kind,col):\n",
    "    cityl = [city]\n",
    "    fig = plt.figure(figsize=(15,4))\n",
    "    ax1 = fig.add_subplot(1,1,1)\n",
    "    df.query(f\"cty_name in {cityl} & year> 1985 \")[['year',col]].plot(x= 'year',kind = kind,color = 'green',ax=ax1,linewidth=3)\n",
    "interact(oilgas,city=[i for i in set(df.cty_name)],kind=['line','hist'],col=[i for i in df.columns if 'oil' in i and 'export' in i or 'gas'  in i and 'export' in i])"
   ]
  },
  {
   "cell_type": "code",
   "execution_count": 33,
   "metadata": {},
   "outputs": [
    {
     "data": {
      "text/plain": [
       "1.800000     1870\n",
       "1.930000      748\n",
       "1.900000      561\n",
       "1.710000      561\n",
       "2.080000      374\n",
       "             ... \n",
       "31.610000     187\n",
       "35.930000     187\n",
       "2.240000      187\n",
       "18.226113     187\n",
       "1.000000      187\n",
       "Name: oil_price_nom, Length: 65, dtype: int64"
      ]
     },
     "execution_count": 33,
     "metadata": {},
     "output_type": "execute_result"
    }
   ],
   "source": [
    "df.oil_price_nom.value_counts()"
   ]
  },
  {
   "cell_type": "code",
   "execution_count": null,
   "metadata": {},
   "outputs": [],
   "source": []
  }
 ],
 "metadata": {
  "kernelspec": {
   "display_name": "Python 3",
   "language": "python",
   "name": "python3"
  },
  "language_info": {
   "codemirror_mode": {
    "name": "ipython",
    "version": 3
   },
   "file_extension": ".py",
   "mimetype": "text/x-python",
   "name": "python",
   "nbconvert_exporter": "python",
   "pygments_lexer": "ipython3",
   "version": "3.6.5"
  },
  "toc": {
   "base_numbering": 1,
   "nav_menu": {},
   "number_sections": true,
   "sideBar": true,
   "skip_h1_title": false,
   "title_cell": "Table of Contents",
   "title_sidebar": "Contents",
   "toc_cell": false,
   "toc_position": {},
   "toc_section_display": true,
   "toc_window_display": false
  }
 },
 "nbformat": 4,
 "nbformat_minor": 2
}
